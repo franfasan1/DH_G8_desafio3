{
  "nbformat": 4,
  "nbformat_minor": 0,
  "metadata": {
    "colab": {
      "name": "notebook_desafio.ipynb",
      "provenance": [],
      "authorship_tag": "ABX9TyM3LYH3eNFI+q7pWIAJs8S1",
      "include_colab_link": true
    },
    "kernelspec": {
      "name": "python3",
      "display_name": "Python 3"
    }
  },
  "cells": [
    {
      "cell_type": "markdown",
      "metadata": {
        "id": "view-in-github",
        "colab_type": "text"
      },
      "source": [
        "<a href=\"https://colab.research.google.com/github/franfasan1/DH_G8_desafio3/blob/main/notebook_desafio.ipynb\" target=\"_parent\"><img src=\"https://colab.research.google.com/assets/colab-badge.svg\" alt=\"Open In Colab\"/></a>"
      ]
    },
    {
      "cell_type": "code",
      "metadata": {
        "id": "cmrtEtXtfEZV"
      },
      "source": [
        "import pandas as pd\n",
        "import numpy as np\n",
        "import seaborn as sns\n",
        "import matplotlib.pyplot as plt"
      ],
      "execution_count": 3,
      "outputs": []
    },
    {
      "cell_type": "code",
      "metadata": {
        "id": "9HAS4ZYTBmZN"
      },
      "source": [
        "data = pd.read_csv('bank_customer_survey.csv')"
      ],
      "execution_count": 4,
      "outputs": []
    },
    {
      "cell_type": "code",
      "metadata": {
        "colab": {
          "base_uri": "https://localhost:8080/",
          "height": 161
        },
        "id": "k19A0eYsHz-J",
        "outputId": "7731eee6-3a03-48fc-f964-be27ad545bb6"
      },
      "source": [
        "data.head(3)"
      ],
      "execution_count": 5,
      "outputs": [
        {
          "output_type": "execute_result",
          "data": {
            "text/html": [
              "<div>\n",
              "<style scoped>\n",
              "    .dataframe tbody tr th:only-of-type {\n",
              "        vertical-align: middle;\n",
              "    }\n",
              "\n",
              "    .dataframe tbody tr th {\n",
              "        vertical-align: top;\n",
              "    }\n",
              "\n",
              "    .dataframe thead th {\n",
              "        text-align: right;\n",
              "    }\n",
              "</style>\n",
              "<table border=\"1\" class=\"dataframe\">\n",
              "  <thead>\n",
              "    <tr style=\"text-align: right;\">\n",
              "      <th></th>\n",
              "      <th>age</th>\n",
              "      <th>job</th>\n",
              "      <th>marital</th>\n",
              "      <th>education</th>\n",
              "      <th>default</th>\n",
              "      <th>balance</th>\n",
              "      <th>housing</th>\n",
              "      <th>loan</th>\n",
              "      <th>contact</th>\n",
              "      <th>day</th>\n",
              "      <th>month</th>\n",
              "      <th>duration</th>\n",
              "      <th>campaign</th>\n",
              "      <th>pdays</th>\n",
              "      <th>previous</th>\n",
              "      <th>poutcome</th>\n",
              "      <th>y</th>\n",
              "    </tr>\n",
              "  </thead>\n",
              "  <tbody>\n",
              "    <tr>\n",
              "      <th>0</th>\n",
              "      <td>58</td>\n",
              "      <td>management</td>\n",
              "      <td>married</td>\n",
              "      <td>tertiary</td>\n",
              "      <td>no</td>\n",
              "      <td>2143</td>\n",
              "      <td>yes</td>\n",
              "      <td>no</td>\n",
              "      <td>unknown</td>\n",
              "      <td>5</td>\n",
              "      <td>may</td>\n",
              "      <td>261</td>\n",
              "      <td>1</td>\n",
              "      <td>-1</td>\n",
              "      <td>0</td>\n",
              "      <td>unknown</td>\n",
              "      <td>0</td>\n",
              "    </tr>\n",
              "    <tr>\n",
              "      <th>1</th>\n",
              "      <td>44</td>\n",
              "      <td>technician</td>\n",
              "      <td>single</td>\n",
              "      <td>secondary</td>\n",
              "      <td>no</td>\n",
              "      <td>29</td>\n",
              "      <td>yes</td>\n",
              "      <td>no</td>\n",
              "      <td>unknown</td>\n",
              "      <td>5</td>\n",
              "      <td>may</td>\n",
              "      <td>151</td>\n",
              "      <td>1</td>\n",
              "      <td>-1</td>\n",
              "      <td>0</td>\n",
              "      <td>unknown</td>\n",
              "      <td>0</td>\n",
              "    </tr>\n",
              "    <tr>\n",
              "      <th>2</th>\n",
              "      <td>33</td>\n",
              "      <td>entrepreneur</td>\n",
              "      <td>married</td>\n",
              "      <td>secondary</td>\n",
              "      <td>no</td>\n",
              "      <td>2</td>\n",
              "      <td>yes</td>\n",
              "      <td>yes</td>\n",
              "      <td>unknown</td>\n",
              "      <td>5</td>\n",
              "      <td>may</td>\n",
              "      <td>76</td>\n",
              "      <td>1</td>\n",
              "      <td>-1</td>\n",
              "      <td>0</td>\n",
              "      <td>unknown</td>\n",
              "      <td>0</td>\n",
              "    </tr>\n",
              "  </tbody>\n",
              "</table>\n",
              "</div>"
            ],
            "text/plain": [
              "   age           job  marital  education  ... pdays  previous poutcome  y\n",
              "0   58    management  married   tertiary  ...    -1         0  unknown  0\n",
              "1   44    technician   single  secondary  ...    -1         0  unknown  0\n",
              "2   33  entrepreneur  married  secondary  ...    -1         0  unknown  0\n",
              "\n",
              "[3 rows x 17 columns]"
            ]
          },
          "metadata": {
            "tags": []
          },
          "execution_count": 5
        }
      ]
    },
    {
      "cell_type": "markdown",
      "metadata": {
        "id": "XnBsnO5EIO-8"
      },
      "source": [
        "# Análisis Exploratorio"
      ]
    },
    {
      "cell_type": "markdown",
      "metadata": {
        "id": "sdZ4TvcvIXdL"
      },
      "source": [
        "Antes de empezar a trabajar en el modelo de clasificación es importante visualziar los datos, validar su estructura y entender las relaciones entre las variables"
      ]
    },
    {
      "cell_type": "markdown",
      "metadata": {
        "id": "OM1vQSyOIkFx"
      },
      "source": [
        "Comencemos analizando la existencia o no de valores nulos"
      ]
    },
    {
      "cell_type": "code",
      "metadata": {
        "colab": {
          "base_uri": "https://localhost:8080/"
        },
        "id": "l1G2EEOUIWDw",
        "outputId": "6d17f5e1-84ef-4edc-90a9-bdb0af01fb88"
      },
      "source": [
        "data.info()"
      ],
      "execution_count": 6,
      "outputs": [
        {
          "output_type": "stream",
          "text": [
            "<class 'pandas.core.frame.DataFrame'>\n",
            "RangeIndex: 45211 entries, 0 to 45210\n",
            "Data columns (total 17 columns):\n",
            " #   Column     Non-Null Count  Dtype \n",
            "---  ------     --------------  ----- \n",
            " 0   age        45211 non-null  int64 \n",
            " 1   job        45211 non-null  object\n",
            " 2   marital    45211 non-null  object\n",
            " 3   education  45211 non-null  object\n",
            " 4   default    45211 non-null  object\n",
            " 5   balance    45211 non-null  int64 \n",
            " 6   housing    45211 non-null  object\n",
            " 7   loan       45211 non-null  object\n",
            " 8   contact    45211 non-null  object\n",
            " 9   day        45211 non-null  int64 \n",
            " 10  month      45211 non-null  object\n",
            " 11  duration   45211 non-null  int64 \n",
            " 12  campaign   45211 non-null  int64 \n",
            " 13  pdays      45211 non-null  int64 \n",
            " 14  previous   45211 non-null  int64 \n",
            " 15  poutcome   45211 non-null  object\n",
            " 16  y          45211 non-null  int64 \n",
            "dtypes: int64(8), object(9)\n",
            "memory usage: 5.9+ MB\n"
          ],
          "name": "stdout"
        }
      ]
    },
    {
      "cell_type": "markdown",
      "metadata": {
        "id": "So833PucJBr6"
      },
      "source": [
        "Se observa entonces que hay 45211 registros con 16 features a analizar y por suerte ningún valor nulo!!! (vamoooooooo!)\n",
        "\n",
        "Además se ve que los tipos de dato son bastante coherentes con lo que se ve reflejado en el vistazo que le dimos a la tabla. En este sentido, una variable a la que podríamos cambiarle su \"tipo\" es ***day*** ya que representa el día de la semana y no tiene sentido que sea numérica, sino **categórica**.\n"
      ]
    },
    {
      "cell_type": "code",
      "metadata": {
        "id": "OLccq65nIoSZ"
      },
      "source": [
        "data['day'] = data.day.astype('category')"
      ],
      "execution_count": 7,
      "outputs": []
    },
    {
      "cell_type": "markdown",
      "metadata": {
        "id": "sQHV5TDRKG3s"
      },
      "source": [
        "Ya que estamos convertimos todos los datos que entendemos categoricos a *category*"
      ]
    },
    {
      "cell_type": "code",
      "metadata": {
        "id": "sNW33x2aJ9bJ"
      },
      "source": [
        "columnas = data.columns\n",
        "\n",
        "for col in columnas:\n",
        "  if data[col].dtype == 'object':\n",
        "    data[col] = data[col].astype('category')"
      ],
      "execution_count": 8,
      "outputs": []
    },
    {
      "cell_type": "markdown",
      "metadata": {
        "id": "kh6ECUx2Kvgn"
      },
      "source": [
        "Ahora que tenemos todo esto medio armado podemos empezar a analizar nuestra data. Empecemos estudiando como se distribuye cada una de las variables según la respuesta que buscamos, para después pasar a ver como se relacionan entre ellas"
      ]
    },
    {
      "cell_type": "code",
      "metadata": {
        "colab": {
          "base_uri": "https://localhost:8080/",
          "height": 387
        },
        "id": "NsqD-YAVKhD9",
        "outputId": "5e6b04b5-8fcd-485a-bba8-99ca0432f9df"
      },
      "source": [
        "sns.displot(data = data, x = 'age', hue = 'y', legend = True, kind = 'kde')"
      ],
      "execution_count": 9,
      "outputs": [
        {
          "output_type": "execute_result",
          "data": {
            "text/plain": [
              "<seaborn.axisgrid.FacetGrid at 0x7faf6ee44e10>"
            ]
          },
          "metadata": {
            "tags": []
          },
          "execution_count": 9
        },
        {
          "output_type": "display_data",
          "data": {
            "image/png": "[encoded data removed]",
            "text/plain": [
              "<Figure size 402.375x360 with 1 Axes>"
            ]
          },
          "metadata": {
            "tags": [],
            "needs_background": "light"
          }
        }
      ]
    },
    {
      "cell_type": "code",
      "metadata": {
        "colab": {
          "base_uri": "https://localhost:8080/",
          "height": 324
        },
        "id": "zVvaOVfDLF5c",
        "outputId": "6dad5c3f-9da5-46d7-cbea-f595067c5536"
      },
      "source": [
        "a = data.groupby('y')['job'].value_counts(normalize = True).rename('percentage').mul(100).reset_index()\n",
        "g = sns.barplot(x = 'job', y = 'percentage', hue = 'y', data = a)\n",
        "g.set_xticklabels(g.get_xticklabels(), minor = False, rotation = 45);"
      ],
      "execution_count": 10,
      "outputs": [
        {
          "output_type": "display_data",
          "data": {
            "image/png": "[encoded data removed]",
            "text/plain": [
              "<Figure size 432x288 with 1 Axes>"
            ]
          },
          "metadata": {
            "tags": [],
            "needs_background": "light"
          }
        }
      ]
    },
    {
      "cell_type": "code",
      "metadata": {
        "id": "u3Hjgm82suq-"
      },
      "source": [
        "job_mas_comun = data.job.mode()\n",
        "job_mas_comun[0]\n",
        "data['job'] = data.job.apply(lambda x: job_mas_comun[0] if x == 'unknown' else x)"
      ],
      "execution_count": 11,
      "outputs": []
    },
    {
      "cell_type": "code",
      "metadata": {
        "colab": {
          "base_uri": "https://localhost:8080/",
          "height": 297
        },
        "id": "Rrmg5fdUQFnR",
        "outputId": "4d0f3c99-8c4e-46dc-d316-72a57a0e7aa9"
      },
      "source": [
        "a = data.groupby('y')['marital'].value_counts(normalize = True).rename('percentage').mul(100).reset_index()\n",
        "sns.barplot(x = 'marital', y = 'percentage', hue = 'y', data = a)"
      ],
      "execution_count": 12,
      "outputs": [
        {
          "output_type": "execute_result",
          "data": {
            "text/plain": [
              "<matplotlib.axes._subplots.AxesSubplot at 0x7faf6acebb38>"
            ]
          },
          "metadata": {
            "tags": []
          },
          "execution_count": 12
        },
        {
          "output_type": "display_data",
          "data": {
            "image/png": "[encoded data removed]",
            "text/plain": [
              "<Figure size 432x288 with 1 Axes>"
            ]
          },
          "metadata": {
            "tags": [],
            "needs_background": "light"
          }
        }
      ]
    },
    {
      "cell_type": "markdown",
      "metadata": {
        "id": "yiaoC_5PUd4z"
      },
      "source": [
        "Se observa claramente que los solteros y los divorciados tienen una tendencia superior a realizar depósitos en plazo fijo mayor a los casados"
      ]
    },
    {
      "cell_type": "code",
      "metadata": {
        "colab": {
          "base_uri": "https://localhost:8080/",
          "height": 297
        },
        "id": "OdwRPKF8TWkw",
        "outputId": "d4284fe9-4eb0-4715-e639-8a2178d90916"
      },
      "source": [
        "a = data.groupby('y')['education'].value_counts(normalize = True).rename('percentage').mul(100).reset_index()\n",
        "sns.barplot(x = 'education', y = 'percentage', hue = 'y', data = a)"
      ],
      "execution_count": 13,
      "outputs": [
        {
          "output_type": "execute_result",
          "data": {
            "text/plain": [
              "<matplotlib.axes._subplots.AxesSubplot at 0x7faf6ac75f98>"
            ]
          },
          "metadata": {
            "tags": []
          },
          "execution_count": 13
        },
        {
          "output_type": "display_data",
          "data": {
            "image/png": "[encoded data removed]",
            "text/plain": [
              "<Figure size 432x288 with 1 Axes>"
            ]
          },
          "metadata": {
            "tags": [],
            "needs_background": "light"
          }
        }
      ]
    },
    {
      "cell_type": "code",
      "metadata": {
        "id": "EGnwTkCRvJpr",
        "outputId": "e6b0278f-8b14-43eb-eca1-dcad727a8855",
        "colab": {
          "base_uri": "https://localhost:8080/",
          "height": 297
        }
      },
      "source": [
        "a = data.groupby('education')['job'].value_counts(normalize = True).rename('percentage').mul(100).reset_index()\n",
        "sns.barplot(x = 'job', y = 'percentage', hue = 'education', data = a)"
      ],
      "execution_count": 14,
      "outputs": [
        {
          "output_type": "execute_result",
          "data": {
            "text/plain": [
              "<matplotlib.axes._subplots.AxesSubplot at 0x7faf6abfb320>"
            ]
          },
          "metadata": {
            "tags": []
          },
          "execution_count": 14
        },
        {
          "output_type": "display_data",
          "data": {
            "image/png": "[encoded data removed]",
            "text/plain": [
              "<Figure size 432x288 with 1 Axes>"
            ]
          },
          "metadata": {
            "tags": [],
            "needs_background": "light"
          }
        }
      ]
    },
    {
      "cell_type": "code",
      "metadata": {
        "id": "gUZQLYuRvrCL"
      },
      "source": [
        "tabla = data.groupby('job')['education'].agg(lambda x: x.value_counts().index[0])\n",
        "\n",
        "for i in range(0, data.shape[0]-1):\n",
        "  if data.education[i] == 'unknown':\n",
        "    for j in range(0, tabla.shape[0]-1):\n",
        "      if data.job[i] == tabla.index[j]:\n",
        "        data.education[i] = tabla[j]\n",
        "\n",
        "data['education'] = data.education.apply(lambda x: np.NaN if x == 'unknown' else x)\n",
        "data.education.dropna(inplace=True)"
      ],
      "execution_count": 15,
      "outputs": []
    },
    {
      "cell_type": "markdown",
      "metadata": {
        "id": "NfrdpO9yUwnT"
      },
      "source": [
        "A priori parece algo razonable pensar que las personas con mayor nivel educativo son mas propensos a realizar depósitos a plazo fijo, tal vez pueda ser que su excedente monetario sea mayor que en el resto de los casos o porque tienen mayor educación financiera. Se ven un pequeño porcentaje de *unkowns* que representan valores nulos y deberíamos imputarlos o removerlos"
      ]
    },
    {
      "cell_type": "code",
      "metadata": {
        "colab": {
          "base_uri": "https://localhost:8080/",
          "height": 297
        },
        "id": "uxpvlx4fUuh8",
        "outputId": "eeead59c-9801-4ee0-aaa4-c510487ebb36"
      },
      "source": [
        "a = data.groupby('y')['default'].value_counts(normalize = True).rename('percentage').mul(100).reset_index()\n",
        "sns.barplot(x = 'default', y = 'percentage', hue = 'y', data = a)"
      ],
      "execution_count": 16,
      "outputs": [
        {
          "output_type": "execute_result",
          "data": {
            "text/plain": [
              "<matplotlib.axes._subplots.AxesSubplot at 0x7faf6aa65b70>"
            ]
          },
          "metadata": {
            "tags": []
          },
          "execution_count": 16
        },
        {
          "output_type": "display_data",
          "data": {
            "image/png": "[encoded data removed]",
            "text/plain": [
              "<Figure size 432x288 with 1 Axes>"
            ]
          },
          "metadata": {
            "tags": [],
            "needs_background": "light"
          }
        }
      ]
    },
    {
      "cell_type": "markdown",
      "metadata": {
        "id": "1RV6KedGW__U"
      },
      "source": [
        "Resulta bastante lógico pensar que los casos con default crediticio ni siquiera sean contactados para ofrecerles un plazo fijo, y que en caso de sean contactados, la tasa de aceptación sea menor"
      ]
    },
    {
      "cell_type": "code",
      "metadata": {
        "colab": {
          "base_uri": "https://localhost:8080/",
          "height": 386
        },
        "id": "kGqGDE8ZWcFT",
        "outputId": "622f38e8-e564-486e-aab0-14759684591e"
      },
      "source": [
        "sns.distplot(data[data.y == 0].balance, hist = False, norm_hist= True, label = \"no\")\n",
        "sns.distplot(data[data.y == 1].balance, hist = False, norm_hist= True, label = \"yes\")\n",
        "plt.legend()"
      ],
      "execution_count": 17,
      "outputs": [
        {
          "output_type": "stream",
          "text": [
            "/usr/local/lib/python3.6/dist-packages/seaborn/distributions.py:2551: FutureWarning: `distplot` is a deprecated function and will be removed in a future version. Please adapt your code to use either `displot` (a figure-level function with similar flexibility) or `kdeplot` (an axes-level function for kernel density plots).\n",
            "  warnings.warn(msg, FutureWarning)\n",
            "/usr/local/lib/python3.6/dist-packages/seaborn/distributions.py:2551: FutureWarning: `distplot` is a deprecated function and will be removed in a future version. Please adapt your code to use either `displot` (a figure-level function with similar flexibility) or `kdeplot` (an axes-level function for kernel density plots).\n",
            "  warnings.warn(msg, FutureWarning)\n"
          ],
          "name": "stderr"
        },
        {
          "output_type": "execute_result",
          "data": {
            "text/plain": [
              "<matplotlib.legend.Legend at 0x7faf6aa90908>"
            ]
          },
          "metadata": {
            "tags": []
          },
          "execution_count": 17
        },
        {
          "output_type": "display_data",
          "data": {
            "image/png": "[encoded data removed]",
            "text/plain": [
              "<Figure size 432x288 with 1 Axes>"
            ]
          },
          "metadata": {
            "tags": [],
            "needs_background": "light"
          }
        }
      ]
    },
    {
      "cell_type": "code",
      "metadata": {
        "id": "12WqSxadrzV6",
        "outputId": "b87267ef-0c9e-47c7-c905-a24bee1743ad",
        "colab": {
          "base_uri": "https://localhost:8080/",
          "height": 297
        }
      },
      "source": [
        "sns.boxplot(x = data.y, y = (data[data.balance < 25000].balance))"
      ],
      "execution_count": 18,
      "outputs": [
        {
          "output_type": "execute_result",
          "data": {
            "text/plain": [
              "<matplotlib.axes._subplots.AxesSubplot at 0x7faf6a9b62b0>"
            ]
          },
          "metadata": {
            "tags": []
          },
          "execution_count": 18
        },
        {
          "output_type": "display_data",
          "data": {
            "image/png": "[encoded data removed]",
            "text/plain": [
              "<Figure size 432x288 with 1 Axes>"
            ]
          },
          "metadata": {
            "tags": [],
            "needs_background": "light"
          }
        }
      ]
    },
    {
      "cell_type": "markdown",
      "metadata": {
        "id": "YT8ZhpF79HAt"
      },
      "source": [
        "Aca vamos a tener que trabajar un poco sobre los outliers, ya que hay valores muy extremos. Dado que se trata de los saldos de cuentas bancarias otra buena posibilidad sería transformar la variable con un *ln* para normalizarla"
      ]
    },
    {
      "cell_type": "code",
      "metadata": {
        "id": "aGm5kIVpuYdt",
        "outputId": "c7971749-84df-4668-f86c-60910a8d5d47",
        "colab": {
          "base_uri": "https://localhost:8080/",
          "height": 297
        }
      },
      "source": [
        "a = data.groupby('y')['loan'].value_counts(normalize = True).rename('percentage').mul(100).reset_index()\n",
        "sns.barplot(x = 'loan', y = 'percentage', hue = 'y', data = a)"
      ],
      "execution_count": 19,
      "outputs": [
        {
          "output_type": "execute_result",
          "data": {
            "text/plain": [
              "<matplotlib.axes._subplots.AxesSubplot at 0x7faf6a8e2128>"
            ]
          },
          "metadata": {
            "tags": []
          },
          "execution_count": 19
        },
        {
          "output_type": "display_data",
          "data": {
            "image/png": "[encoded data removed]",
            "text/plain": [
              "<Figure size 432x288 with 1 Axes>"
            ]
          },
          "metadata": {
            "tags": [],
            "needs_background": "light"
          }
        }
      ]
    },
    {
      "cell_type": "code",
      "metadata": {
        "id": "k9Z3r_NX9bJ2",
        "outputId": "a59b23f1-d42f-4df3-e1e9-2df457bbcd1b",
        "colab": {
          "base_uri": "https://localhost:8080/",
          "height": 297
        }
      },
      "source": [
        "a = data.groupby('y')['housing'].value_counts(normalize = True).rename('percentage').mul(100).reset_index()\n",
        "sns.barplot(x = 'housing', y = 'percentage', hue = 'y', data = a)"
      ],
      "execution_count": 20,
      "outputs": [
        {
          "output_type": "execute_result",
          "data": {
            "text/plain": [
              "<matplotlib.axes._subplots.AxesSubplot at 0x7faf6a84ce10>"
            ]
          },
          "metadata": {
            "tags": []
          },
          "execution_count": 20
        },
        {
          "output_type": "display_data",
          "data": {
            "image/png": "[encoded data removed]",
            "text/plain": [
              "<Figure size 432x288 with 1 Axes>"
            ]
          },
          "metadata": {
            "tags": [],
            "needs_background": "light"
          }
        }
      ]
    },
    {
      "cell_type": "markdown",
      "metadata": {
        "id": "74GiuSR99tNb"
      },
      "source": [
        "Esta claro que aquellos usuarios que no tienen prestamos personales o hipotecarios son mas propensos a realizr un depósito en plazo fijo que aquellosq ue tienen deudas que saldar a fin de mes"
      ]
    },
    {
      "cell_type": "code",
      "metadata": {
        "id": "EIRWD8MV9gJ9",
        "outputId": "bda923f6-df6e-46bd-ce10-6c3a94a5c675",
        "colab": {
          "base_uri": "https://localhost:8080/",
          "height": 297
        }
      },
      "source": [
        "a = data.groupby('y')['contact'].value_counts(normalize = True).rename('percentage').mul(100).reset_index()\n",
        "sns.barplot(x = 'contact', y = 'percentage', hue = 'y', data = a)"
      ],
      "execution_count": 21,
      "outputs": [
        {
          "output_type": "execute_result",
          "data": {
            "text/plain": [
              "<matplotlib.axes._subplots.AxesSubplot at 0x7faf6a7d74e0>"
            ]
          },
          "metadata": {
            "tags": []
          },
          "execution_count": 21
        },
        {
          "output_type": "display_data",
          "data": {
            "image/png": "[encoded data removed]",
            "text/plain": [
              "<Figure size 432x288 with 1 Axes>"
            ]
          },
          "metadata": {
            "tags": [],
            "needs_background": "light"
          }
        }
      ]
    },
    {
      "cell_type": "code",
      "metadata": {
        "id": "8lE0n27Qpgci",
        "outputId": "032d53a2-1a8e-4ee7-cee0-a135414708a5",
        "colab": {
          "base_uri": "https://localhost:8080/",
          "height": 297
        }
      },
      "source": [
        "a = data.groupby('contact')['education'].value_counts(normalize = True).rename('percentage').mul(100).reset_index()\n",
        "sns.barplot(x = 'education', y = 'percentage', hue = 'contact', data = a)"
      ],
      "execution_count": 22,
      "outputs": [
        {
          "output_type": "execute_result",
          "data": {
            "text/plain": [
              "<matplotlib.axes._subplots.AxesSubplot at 0x7faf6a85fbe0>"
            ]
          },
          "metadata": {
            "tags": []
          },
          "execution_count": 22
        },
        {
          "output_type": "display_data",
          "data": {
            "image/png": "[encoded data removed]",
            "text/plain": [
              "<Figure size 432x288 with 1 Axes>"
            ]
          },
          "metadata": {
            "tags": [],
            "needs_background": "light"
          }
        }
      ]
    },
    {
      "cell_type": "code",
      "metadata": {
        "id": "X7EKa7-yqIyR",
        "outputId": "d427537f-c4e9-41e6-a9fa-9f998d69176d",
        "colab": {
          "base_uri": "https://localhost:8080/",
          "height": 421
        }
      },
      "source": [
        "sns.distplot(data[data.contact == 'cellular'].age, label= 'cel')\n",
        "sns.distplot(data[data.contact == 'telephone'].age, label = 'tel')\n",
        "sns.distplot(data[data.contact == 'unknown'].age, label = 'u')\n",
        "plt.legend()"
      ],
      "execution_count": 23,
      "outputs": [
        {
          "output_type": "stream",
          "text": [
            "/usr/local/lib/python3.6/dist-packages/seaborn/distributions.py:2551: FutureWarning: `distplot` is a deprecated function and will be removed in a future version. Please adapt your code to use either `displot` (a figure-level function with similar flexibility) or `histplot` (an axes-level function for histograms).\n",
            "  warnings.warn(msg, FutureWarning)\n",
            "/usr/local/lib/python3.6/dist-packages/seaborn/distributions.py:2551: FutureWarning: `distplot` is a deprecated function and will be removed in a future version. Please adapt your code to use either `displot` (a figure-level function with similar flexibility) or `histplot` (an axes-level function for histograms).\n",
            "  warnings.warn(msg, FutureWarning)\n",
            "/usr/local/lib/python3.6/dist-packages/seaborn/distributions.py:2551: FutureWarning: `distplot` is a deprecated function and will be removed in a future version. Please adapt your code to use either `displot` (a figure-level function with similar flexibility) or `histplot` (an axes-level function for histograms).\n",
            "  warnings.warn(msg, FutureWarning)\n"
          ],
          "name": "stderr"
        },
        {
          "output_type": "execute_result",
          "data": {
            "text/plain": [
              "<matplotlib.legend.Legend at 0x7faf6a75acc0>"
            ]
          },
          "metadata": {
            "tags": []
          },
          "execution_count": 23
        },
        {
          "output_type": "display_data",
          "data": {
            "image/png": "[encoded data removed]",
            "text/plain": [
              "<Figure size 432x288 with 1 Axes>"
            ]
          },
          "metadata": {
            "tags": [],
            "needs_background": "light"
          }
        }
      ]
    },
    {
      "cell_type": "code",
      "metadata": {
        "id": "ZNEtzi_K-bCQ",
        "outputId": "27237754-3eab-40f1-f7f7-dfe9ef47d833",
        "colab": {
          "base_uri": "https://localhost:8080/",
          "height": 279
        }
      },
      "source": [
        "a = data.groupby('y')['day'].value_counts(normalize = True).rename('percentage').mul(100).reset_index()\n",
        "sns.barplot(x = 'day', y = 'percentage', hue = 'y', data = a)\n",
        "sns.set(rc={'figure.figsize':(16,8.27)})"
      ],
      "execution_count": 25,
      "outputs": [
        {
          "output_type": "display_data",
          "data": {
            "image/png": "[encoded data removed]",
            "text/plain": [
              "<Figure size 432x288 with 1 Axes>"
            ]
          },
          "metadata": {
            "tags": [],
            "needs_background": "light"
          }
        }
      ]
    },
    {
      "cell_type": "code",
      "metadata": {
        "id": "4N0sOxPo-zlW",
        "outputId": "a2c74236-376e-4fd6-b6bf-848a8a247e11",
        "colab": {
          "base_uri": "https://localhost:8080/",
          "height": 469
        }
      },
      "source": [
        "data['semana'] = data.day.apply(lambda x: 'principio' if x <= 10 else ('mediados' if ((x > 10) and (x <= 20)) else 'fin'))\n",
        "a = data.groupby('y')['semana'].value_counts(normalize = True).rename('percentage').mul(100).reset_index()\n",
        "sns.barplot(x = 'semana', y = 'percentage', hue = 'y', data = a)\n",
        "sns.set(rc={'figure.figsize':(11.7,8.27)})"
      ],
      "execution_count": 26,
      "outputs": [
        {
          "output_type": "display_data",
          "data": {
            "image/png": "[encoded data removed]",
            "text/plain": [
              "<Figure size 1152x595.44 with 1 Axes>"
            ]
          },
          "metadata": {
            "tags": []
          }
        }
      ]
    },
    {
      "cell_type": "code",
      "metadata": {
        "id": "lW_VGaNpDTlI",
        "outputId": "ec365bee-ea89-4b04-a333-081541fec4a7",
        "colab": {
          "base_uri": "https://localhost:8080/",
          "height": 535
        }
      },
      "source": [
        "a = data.groupby('y')['month'].value_counts(normalize = True).rename('percentage').mul(100).reset_index()\n",
        "sns.barplot(x = 'month', y = 'percentage', hue = 'y', data = a)"
      ],
      "execution_count": 27,
      "outputs": [
        {
          "output_type": "execute_result",
          "data": {
            "text/plain": [
              "<matplotlib.axes._subplots.AxesSubplot at 0x7faf6a2e6b70>"
            ]
          },
          "metadata": {
            "tags": []
          },
          "execution_count": 27
        },
        {
          "output_type": "display_data",
          "data": {
            "image/png": "[encoded data removed]",
            "text/plain": [
              "<Figure size 842.4x595.44 with 1 Axes>"
            ]
          },
          "metadata": {
            "tags": []
          }
        }
      ]
    },
    {
      "cell_type": "code",
      "metadata": {
        "id": "sxkHLW6zFxk2",
        "outputId": "7acfb9a4-4f40-489b-9eb2-d75b03bd011d",
        "colab": {
          "base_uri": "https://localhost:8080/",
          "height": 535
        }
      },
      "source": [
        "data['quarter'] = data.month.apply(lambda x: 'Q1' if x in ['jan', 'feb', 'mar', 'apr'] else ('Q2' if x in ['may', 'jun', 'jul', 'aug'] else 'Q3'))\n",
        "a = data.groupby('y')['quarter'].value_counts(normalize = True).rename('percentage').mul(100).reset_index()\n",
        "sns.barplot(x = 'quarter', y = 'percentage', hue = 'y', data = a)"
      ],
      "execution_count": 28,
      "outputs": [
        {
          "output_type": "execute_result",
          "data": {
            "text/plain": [
              "<matplotlib.axes._subplots.AxesSubplot at 0x7faf6a1da0f0>"
            ]
          },
          "metadata": {
            "tags": []
          },
          "execution_count": 28
        },
        {
          "output_type": "display_data",
          "data": {
            "image/png": "[encoded data removed]",
            "text/plain": [
              "<Figure size 842.4x595.44 with 1 Axes>"
            ]
          },
          "metadata": {
            "tags": []
          }
        }
      ]
    },
    {
      "cell_type": "markdown",
      "metadata": {
        "id": "JdozVmZvG0AW"
      },
      "source": [
        "Se ve que los contactos tienen un efecto positivo al principio y al final del año, mientras que en el cuatrimestre intermedio las personas tienen una menor tendencia a realizar depósitos, tal vez por mayor incertidumbre respecto a lo que podría suceder con sus ahorros"
      ]
    },
    {
      "cell_type": "code",
      "metadata": {
        "id": "XA9h18PBGoeJ",
        "outputId": "63aed7de-64cd-4227-e6a0-c073a41e995d",
        "colab": {
          "base_uri": "https://localhost:8080/",
          "height": 383
        }
      },
      "source": [
        "sns.displot(x = 'pdays', hue = 'y', data = data[data.pdays > -1])"
      ],
      "execution_count": 29,
      "outputs": [
        {
          "output_type": "execute_result",
          "data": {
            "text/plain": [
              "<seaborn.axisgrid.FacetGrid at 0x7faf6aac59b0>"
            ]
          },
          "metadata": {
            "tags": []
          },
          "execution_count": 29
        },
        {
          "output_type": "display_data",
          "data": {
            "image/png": "[encoded data removed]",
            "text/plain": [
              "<Figure size 406.6x360 with 1 Axes>"
            ]
          },
          "metadata": {
            "tags": []
          }
        }
      ]
    },
    {
      "cell_type": "code",
      "metadata": {
        "id": "_LL28z4FIZya",
        "outputId": "275b7757-1032-4727-b81c-90fa7b58836b",
        "colab": {
          "base_uri": "https://localhost:8080/",
          "height": 535
        }
      },
      "source": [
        "a = data.groupby('y')['poutcome'].value_counts(normalize = True).rename('percentage').mul(100).reset_index()\n",
        "sns.barplot(x = 'poutcome', y = 'percentage', hue = 'y', data = a)"
      ],
      "execution_count": 30,
      "outputs": [
        {
          "output_type": "execute_result",
          "data": {
            "text/plain": [
              "<matplotlib.axes._subplots.AxesSubplot at 0x7faf6a0c86d8>"
            ]
          },
          "metadata": {
            "tags": []
          },
          "execution_count": 30
        },
        {
          "output_type": "display_data",
          "data": {
            "image/png": "[encoded data removed]",
            "text/plain": [
              "<Figure size 842.4x595.44 with 1 Axes>"
            ]
          },
          "metadata": {
            "tags": []
          }
        }
      ]
    },
    {
      "cell_type": "code",
      "metadata": {
        "id": "6m6aIrkUJbIm"
      },
      "source": [
        "data['poutcome'] = data.apply(lambda x: 'sin contacto' if x['pdays'] == -1 else x['poutcome'], axis = 1)\n",
        "data['poutcome'] = data.poutcome.apply(lambda x: np.NaN if x == 'unknown' else x)\n",
        "data.dropna(axis = 0, inplace = True)"
      ],
      "execution_count": 31,
      "outputs": []
    },
    {
      "cell_type": "code",
      "metadata": {
        "id": "7ct5a20kM8N6"
      },
      "source": [
        "other_per = data[(data.poutcome == 'success') | (data.poutcome == 'failure')].poutcome.value_counts() / data[(data.poutcome == 'success') | (data.poutcome == 'failure')].shape[0]\n",
        "\n",
        "success = other_per[1]\n",
        "fail = other_per[0]"
      ],
      "execution_count": 32,
      "outputs": []
    },
    {
      "cell_type": "code",
      "metadata": {
        "id": "wIR3NoWYUOGr"
      },
      "source": [
        "data['poutcome'] = data.poutcome.apply(lambda x: np.NaN if x == 'other' else x)\n",
        "data['poutcome'] = data.poutcome.apply(lambda x: 'failure' if ((x is np.NaN) & (np.random.uniform() < fail)) else ('success' if x is np.NaN else x))"
      ],
      "execution_count": 33,
      "outputs": []
    },
    {
      "cell_type": "markdown",
      "metadata": {
        "id": "pBNmai6HgIPI"
      },
      "source": [
        "Ahora que ya tenemos mas o menos acomodadas las variables y entendemos como afecta cada una de ellas a la variable respuesta, podemos empezar a ver como interactuan entre ellas"
      ]
    },
    {
      "cell_type": "code",
      "metadata": {
        "id": "zaCfy5D_dcW6"
      },
      "source": [
        "data = data[data.balance < 50000]"
      ],
      "execution_count": 35,
      "outputs": []
    },
    {
      "cell_type": "markdown",
      "metadata": {
        "id": "RCJV2ZEWgUGR"
      },
      "source": [
        "# Modelado"
      ]
    },
    {
      "cell_type": "code",
      "metadata": {
        "id": "w0SMtlG5fjTQ"
      },
      "source": [
        "from sklearn.linear_model import LogisticRegressionCV, LogisticRegression\n",
        "from sklearn.neighbors import KNeighborsClassifier\n",
        "from sklearn.naive_bayes import GaussianNB\n",
        "from sklearn.preprocessing import OrdinalEncoder, OneHotEncoder, RobustScaler, StandardScaler\n",
        "from sklearn.pipeline import Pipeline, FeatureUnion, Parallel, make_union\n",
        "from sklearn.model_selection import train_test_split\n",
        "from sklearn.metrics import confusion_matrix, accuracy_score, classification_report\n",
        "from sklearn.model_selection import KFold, GridSearchCV, StratifiedKFold\n",
        "\n",
        "from sklearn.tree import DecisionTreeClassifier\n",
        "from sklearn.svm import SVC"
      ],
      "execution_count": 53,
      "outputs": []
    },
    {
      "cell_type": "markdown",
      "metadata": {
        "id": "msLqyylh9Eop"
      },
      "source": [
        ""
      ]
    },
    {
      "cell_type": "code",
      "metadata": {
        "id": "xMz5z0kg-f6d"
      },
      "source": [
        "X = data.drop('y', axis = 1)\n",
        "y = data.y"
      ],
      "execution_count": 37,
      "outputs": []
    },
    {
      "cell_type": "code",
      "metadata": {
        "id": "ZPeGVMLf_fop"
      },
      "source": [
        "X_train, X_test, y_train, y_test = train_test_split(X, y, test_size = 0.33)"
      ],
      "execution_count": 38,
      "outputs": []
    },
    {
      "cell_type": "markdown",
      "metadata": {
        "id": "BZEEd4OgAOlF"
      },
      "source": [
        ""
      ]
    },
    {
      "cell_type": "code",
      "metadata": {
        "id": "6k54D25lAY0r"
      },
      "source": [
        "from sklearn.base import BaseEstimator, TransformerMixin\n",
        "\n",
        "class ColumnSelector(BaseEstimator, TransformerMixin):\n",
        "    def __init__(self, columns):\n",
        "        self.columns = columns\n",
        "    \n",
        "    def transform(self, X, *_):\n",
        "        if isinstance(X, pd.DataFrame):\n",
        "            return pd.DataFrame(X[self.columns])\n",
        "        else:\n",
        "            raise TypeError(\"Este Transformador solo funciona en DF de Pandas\")\n",
        "    \n",
        "    def fit(self, X, *_):\n",
        "        return self"
      ],
      "execution_count": 44,
      "outputs": []
    },
    {
      "cell_type": "code",
      "metadata": {
        "id": "0YNaMauSLZCv"
      },
      "source": [
        "numeric_features = Pipeline([('column_selector', ColumnSelector(['age', 'balance'])),\n",
        "                             ('scaler', StandardScaler())])"
      ],
      "execution_count": 45,
      "outputs": []
    },
    {
      "cell_type": "code",
      "metadata": {
        "id": "qkSaHqHSI9sk"
      },
      "source": [
        "class GetDummiesTransformer(BaseEstimator, TransformerMixin):\n",
        "    def __init__(self, columns):\n",
        "        self.columns = columns\n",
        "    \n",
        "    def transform(self, X, *_):\n",
        "        if isinstance(X, pd.DataFrame):\n",
        "            return pd.get_dummies(X[self.columns], columns = self.columns, drop_first = True)\n",
        "        else:\n",
        "            raise TypeError(\"Este Transformador solo funciona en DF de Pandas\")\n",
        "    \n",
        "    def fit(self, X, *_):\n",
        "        return self"
      ],
      "execution_count": 46,
      "outputs": []
    },
    {
      "cell_type": "code",
      "metadata": {
        "id": "1gv-3ti6NLN4"
      },
      "source": [
        "categorical_features = Pipeline([('dummies', GetDummiesTransformer(['job', 'marital', 'education', 'default', 'housing', 'loan', 'contact', 'poutcome', 'month']))])"
      ],
      "execution_count": 47,
      "outputs": []
    },
    {
      "cell_type": "code",
      "metadata": {
        "id": "tFuwvP6484x-"
      },
      "source": [
        "procesador = Pipeline([('preprocessing', make_union(numeric_features, categorical_features)),\n",
        "                       ('classifier', 'passthrough')])"
      ],
      "execution_count": 48,
      "outputs": []
    },
    {
      "cell_type": "code",
      "metadata": {
        "id": "ZZTSxJtx9zFQ",
        "outputId": "3571a5ea-d4cc-41a4-a32c-7fb396141544",
        "colab": {
          "base_uri": "https://localhost:8080/"
        }
      },
      "source": [
        "cv = StratifiedKFold(n_splits= 5, shuffle= True, random_state= 332)\n",
        "\n",
        "parametros = [\n",
        "              {\n",
        "                  'classifier': (GaussianNB(), )\n",
        "              },\n",
        "              {\n",
        "                  'classifier': (LogisticRegression(),),\n",
        "                  'classifier__C': np.linspace(0.01, 10, 50)\n",
        "              },\n",
        "              {\n",
        "                  'classifier': (KNeighborsClassifier(),),\n",
        "                  'classifier__n_neighbors': [i for i in range(10, 40)],\n",
        "                  'classifier__weights': ['uniform', 'distance']\n",
        "               },\n",
        "              {\n",
        "                  'classifier': (DecisionTreeClassifier(),),\n",
        "                  'classifier__max_depth': [i for i in range(4,10)],\n",
        "                  'classifier__min_samples_split': [10,25,50]\n",
        "              }\n",
        "              ]\n",
        "\n",
        "grid_search = GridSearchCV(procesador, parametros, cv=cv, scoring = 'accuracy')\n",
        "\n",
        "grid_search.fit(X_train, y_train)"
      ],
      "execution_count": 49,
      "outputs": [
        {
          "output_type": "execute_result",
          "data": {
            "text/plain": [
              "GridSearchCV(cv=StratifiedKFold(n_splits=5, random_state=332, shuffle=True),\n",
              "             error_score=nan,\n",
              "             estimator=Pipeline(memory=None,\n",
              "                                steps=[('preprocessing',\n",
              "                                        FeatureUnion(n_jobs=None,\n",
              "                                                     transformer_list=[('pipeline-1',\n",
              "                                                                        Pipeline(memory=None,\n",
              "                                                                                 steps=[('column_selector',\n",
              "                                                                                         ColumnSelector(columns=['age',\n",
              "                                                                                                                 'balance'])),\n",
              "                                                                                        ('scaler',\n",
              "                                                                                         StandardScaler(copy=True,\n",
              "                                                                                                        with_mean=True,\n",
              "                                                                                                        with_std...\n",
              "                                                              leaf_size=30,\n",
              "                                                              metric='minkowski',\n",
              "                                                              metric_params=None,\n",
              "                                                              n_jobs=None,\n",
              "                                                              n_neighbors=5,\n",
              "                                                              p=2,\n",
              "                                                              weights='uniform'),),\n",
              "                          'classifier__n_neighbors': [10, 11, 12, 13, 14, 15,\n",
              "                                                      16, 17, 18, 19, 20, 21,\n",
              "                                                      22, 23, 24, 25, 26, 27,\n",
              "                                                      28, 29, 30, 31, 32, 33,\n",
              "                                                      34, 35, 36, 37, 38, 39],\n",
              "                          'classifier__weights': ['uniform', 'distance']}],\n",
              "             pre_dispatch='2*n_jobs', refit=True, return_train_score=False,\n",
              "             scoring='accuracy', verbose=0)"
            ]
          },
          "metadata": {
            "tags": []
          },
          "execution_count": 49
        }
      ]
    },
    {
      "cell_type": "code",
      "metadata": {
        "id": "rabL7VlvkJsq",
        "outputId": "b0b5c393-f745-4112-f6b3-f5e2ad2f1799",
        "colab": {
          "base_uri": "https://localhost:8080/"
        }
      },
      "source": [
        "print(grid_search.best_estimator_)\n",
        "grid_search.best_score_"
      ],
      "execution_count": 50,
      "outputs": [
        {
          "output_type": "stream",
          "text": [
            "Pipeline(memory=None,\n",
            "         steps=[('preprocessing',\n",
            "                 FeatureUnion(n_jobs=None,\n",
            "                              transformer_list=[('pipeline-1',\n",
            "                                                 Pipeline(memory=None,\n",
            "                                                          steps=[('column_selector',\n",
            "                                                                  ColumnSelector(columns=['age',\n",
            "                                                                                          'balance'])),\n",
            "                                                                 ('scaler',\n",
            "                                                                  StandardScaler(copy=True,\n",
            "                                                                                 with_mean=True,\n",
            "                                                                                 with_std=True))],\n",
            "                                                          verbose=False)),\n",
            "                                                ('pipeline-2',\n",
            "                                                 Pipeline(memory=None,\n",
            "                                                          steps=[('dummies',\n",
            "                                                                  GetDummiesTransformer(...\n",
            "                                                                                                 'month']))],\n",
            "                                                          verbose=False))],\n",
            "                              transformer_weights=None, verbose=False)),\n",
            "                ('classifier',\n",
            "                 LogisticRegression(C=0.10200000000000001, class_weight=None,\n",
            "                                    dual=False, fit_intercept=True,\n",
            "                                    intercept_scaling=1, l1_ratio=None,\n",
            "                                    max_iter=100, multi_class='auto',\n",
            "                                    n_jobs=None, penalty='l2',\n",
            "                                    random_state=None, solver='lbfgs',\n",
            "                                    tol=0.0001, verbose=0, warm_start=False))],\n",
            "         verbose=False)\n"
          ],
          "name": "stdout"
        },
        {
          "output_type": "execute_result",
          "data": {
            "text/plain": [
              "0.8903688607182637"
            ]
          },
          "metadata": {
            "tags": []
          },
          "execution_count": 50
        }
      ]
    },
    {
      "cell_type": "code",
      "metadata": {
        "id": "AA5k92nRkLBc",
        "outputId": "262387ac-503d-4b0b-cc0e-54333e425c1e",
        "colab": {
          "base_uri": "https://localhost:8080/",
          "height": 171
        }
      },
      "source": [
        "pd.DataFrame(classification_report(y_test, grid_search.predict(X_test), output_dict= True))"
      ],
      "execution_count": 51,
      "outputs": [
        {
          "output_type": "execute_result",
          "data": {
            "text/html": [
              "<div>\n",
              "<style scoped>\n",
              "    .dataframe tbody tr th:only-of-type {\n",
              "        vertical-align: middle;\n",
              "    }\n",
              "\n",
              "    .dataframe tbody tr th {\n",
              "        vertical-align: top;\n",
              "    }\n",
              "\n",
              "    .dataframe thead th {\n",
              "        text-align: right;\n",
              "    }\n",
              "</style>\n",
              "<table border=\"1\" class=\"dataframe\">\n",
              "  <thead>\n",
              "    <tr style=\"text-align: right;\">\n",
              "      <th></th>\n",
              "      <th>0</th>\n",
              "      <th>1</th>\n",
              "      <th>accuracy</th>\n",
              "      <th>macro avg</th>\n",
              "      <th>weighted avg</th>\n",
              "    </tr>\n",
              "  </thead>\n",
              "  <tbody>\n",
              "    <tr>\n",
              "      <th>precision</th>\n",
              "      <td>0.897731</td>\n",
              "      <td>0.636816</td>\n",
              "      <td>0.890693</td>\n",
              "      <td>0.767274</td>\n",
              "      <td>0.867286</td>\n",
              "    </tr>\n",
              "    <tr>\n",
              "      <th>recall</th>\n",
              "      <td>0.988909</td>\n",
              "      <td>0.147211</td>\n",
              "      <td>0.890693</td>\n",
              "      <td>0.568060</td>\n",
              "      <td>0.890693</td>\n",
              "    </tr>\n",
              "    <tr>\n",
              "      <th>f1-score</th>\n",
              "      <td>0.941117</td>\n",
              "      <td>0.239141</td>\n",
              "      <td>0.890693</td>\n",
              "      <td>0.590129</td>\n",
              "      <td>0.859205</td>\n",
              "    </tr>\n",
              "    <tr>\n",
              "      <th>support</th>\n",
              "      <td>13164.000000</td>\n",
              "      <td>1739.000000</td>\n",
              "      <td>0.890693</td>\n",
              "      <td>14903.000000</td>\n",
              "      <td>14903.000000</td>\n",
              "    </tr>\n",
              "  </tbody>\n",
              "</table>\n",
              "</div>"
            ],
            "text/plain": [
              "                      0            1  accuracy     macro avg  weighted avg\n",
              "precision      0.897731     0.636816  0.890693      0.767274      0.867286\n",
              "recall         0.988909     0.147211  0.890693      0.568060      0.890693\n",
              "f1-score       0.941117     0.239141  0.890693      0.590129      0.859205\n",
              "support    13164.000000  1739.000000  0.890693  14903.000000  14903.000000"
            ]
          },
          "metadata": {
            "tags": []
          },
          "execution_count": 51
        }
      ]
    },
    {
      "cell_type": "code",
      "metadata": {
        "id": "T4_t4d4Jkjvp",
        "outputId": "55f20c5a-9929-4145-a414-6af040c9f1df",
        "colab": {
          "base_uri": "https://localhost:8080/",
          "height": 517
        }
      },
      "source": [
        "sns.heatmap(confusion_matrix(y_test, grid_search.predict(X_test)), annot= True, fmt ='.0f')"
      ],
      "execution_count": 52,
      "outputs": [
        {
          "output_type": "execute_result",
          "data": {
            "text/plain": [
              "<matplotlib.axes._subplots.AxesSubplot at 0x7faf5ddcdac8>"
            ]
          },
          "metadata": {
            "tags": []
          },
          "execution_count": 52
        },
        {
          "output_type": "display_data",
          "data": {
            "image/png": "[encoded data removed]",
            "text/plain": [
              "<Figure size 842.4x595.44 with 2 Axes>"
            ]
          },
          "metadata": {
            "tags": []
          }
        }
      ]
    },
    {
      "cell_type": "code",
      "metadata": {
        "id": "_uS4sZHlk9Q8"
      },
      "source": [
        ""
      ],
      "execution_count": null,
      "outputs": []
    }
  ]
}