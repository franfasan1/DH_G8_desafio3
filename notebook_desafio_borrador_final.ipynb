{
 "cells": [
  {
   "cell_type": "markdown",
   "metadata": {
    "colab_type": "text",
    "id": "view-in-github"
   },
   "source": [
    "<a href=\"https://colab.research.google.com/github/franfasan1/DH_G8_desafio3/blob/main/Copia_de_notebook_desafio.ipynb\" target=\"_parent\"><img src=\"https://colab.research.google.com/assets/colab-badge.svg\" alt=\"Open In Colab\"/></a>"
   ]
  },
  {
   "cell_type": "code",
   "execution_count": 35,
   "metadata": {
    "id": "cmrtEtXtfEZV"
   },
   "outputs": [],
   "source": [
    "import pandas as pd\n",
    "import numpy as np\n",
    "import seaborn as sns\n",
    "import matplotlib.pyplot as plt\n",
    "\n",
    "import warnings\n",
    "warnings.filterwarnings('ignore')"
   ]
  },
  {
   "cell_type": "markdown",
   "metadata": {
    "id": "AO9XmitOX9w0"
   },
   "source": [
    "Los datos que se presentan en el siguiente ejercicio están relacionados con campañas de marketing de una institución bancaria de Portugal. Dichas campañas se basaron en llamadas telefónicas, las cuales muestran que a menudo más de un contacto con el mismo cliente fue realizado para poder acceder al producto (depósito a plazo fijo en el banco), estableciendo si sería un \"sí\" o \"no\" candidato potencial a contratar un plazo fijo."
   ]
  },
  {
   "cell_type": "code",
   "execution_count": 116,
   "metadata": {
    "id": "9HAS4ZYTBmZN"
   },
   "outputs": [],
   "source": [
    "data = pd.read_csv('bank_customer_survey.csv')"
   ]
  },
  {
   "cell_type": "code",
   "execution_count": 117,
   "metadata": {},
   "outputs": [],
   "source": [
    "#guardamos una copia del dataset para la ejecución del baseline.\n",
    "df_baseline = data.copy()"
   ]
  },
  {
   "cell_type": "code",
   "execution_count": 119,
   "metadata": {
    "colab": {
     "base_uri": "https://localhost:8080/",
     "height": 141
    },
    "id": "k19A0eYsHz-J",
    "outputId": "f93859b2-12a6-4002-a5a2-0b39f745bf20"
   },
   "outputs": [
    {
     "data": {
      "text/html": [
       "<div>\n",
       "<style scoped>\n",
       "    .dataframe tbody tr th:only-of-type {\n",
       "        vertical-align: middle;\n",
       "    }\n",
       "\n",
       "    .dataframe tbody tr th {\n",
       "        vertical-align: top;\n",
       "    }\n",
       "\n",
       "    .dataframe thead th {\n",
       "        text-align: right;\n",
       "    }\n",
       "</style>\n",
       "<table border=\"1\" class=\"dataframe\">\n",
       "  <thead>\n",
       "    <tr style=\"text-align: right;\">\n",
       "      <th></th>\n",
       "      <th>age</th>\n",
       "      <th>job</th>\n",
       "      <th>marital</th>\n",
       "      <th>education</th>\n",
       "      <th>default</th>\n",
       "      <th>balance</th>\n",
       "      <th>housing</th>\n",
       "      <th>loan</th>\n",
       "      <th>contact</th>\n",
       "      <th>day</th>\n",
       "      <th>month</th>\n",
       "      <th>duration</th>\n",
       "      <th>campaign</th>\n",
       "      <th>pdays</th>\n",
       "      <th>previous</th>\n",
       "      <th>poutcome</th>\n",
       "      <th>y</th>\n",
       "    </tr>\n",
       "  </thead>\n",
       "  <tbody>\n",
       "    <tr>\n",
       "      <th>0</th>\n",
       "      <td>58</td>\n",
       "      <td>management</td>\n",
       "      <td>married</td>\n",
       "      <td>tertiary</td>\n",
       "      <td>no</td>\n",
       "      <td>2143</td>\n",
       "      <td>yes</td>\n",
       "      <td>no</td>\n",
       "      <td>unknown</td>\n",
       "      <td>5</td>\n",
       "      <td>may</td>\n",
       "      <td>261</td>\n",
       "      <td>1</td>\n",
       "      <td>-1</td>\n",
       "      <td>0</td>\n",
       "      <td>unknown</td>\n",
       "      <td>0</td>\n",
       "    </tr>\n",
       "    <tr>\n",
       "      <th>1</th>\n",
       "      <td>44</td>\n",
       "      <td>technician</td>\n",
       "      <td>single</td>\n",
       "      <td>secondary</td>\n",
       "      <td>no</td>\n",
       "      <td>29</td>\n",
       "      <td>yes</td>\n",
       "      <td>no</td>\n",
       "      <td>unknown</td>\n",
       "      <td>5</td>\n",
       "      <td>may</td>\n",
       "      <td>151</td>\n",
       "      <td>1</td>\n",
       "      <td>-1</td>\n",
       "      <td>0</td>\n",
       "      <td>unknown</td>\n",
       "      <td>0</td>\n",
       "    </tr>\n",
       "    <tr>\n",
       "      <th>2</th>\n",
       "      <td>33</td>\n",
       "      <td>entrepreneur</td>\n",
       "      <td>married</td>\n",
       "      <td>secondary</td>\n",
       "      <td>no</td>\n",
       "      <td>2</td>\n",
       "      <td>yes</td>\n",
       "      <td>yes</td>\n",
       "      <td>unknown</td>\n",
       "      <td>5</td>\n",
       "      <td>may</td>\n",
       "      <td>76</td>\n",
       "      <td>1</td>\n",
       "      <td>-1</td>\n",
       "      <td>0</td>\n",
       "      <td>unknown</td>\n",
       "      <td>0</td>\n",
       "    </tr>\n",
       "  </tbody>\n",
       "</table>\n",
       "</div>"
      ],
      "text/plain": [
       "   age           job  marital  education default  balance housing loan  \\\n",
       "0   58    management  married   tertiary      no     2143     yes   no   \n",
       "1   44    technician   single  secondary      no       29     yes   no   \n",
       "2   33  entrepreneur  married  secondary      no        2     yes  yes   \n",
       "\n",
       "   contact  day month  duration  campaign  pdays  previous poutcome  y  \n",
       "0  unknown    5   may       261         1     -1         0  unknown  0  \n",
       "1  unknown    5   may       151         1     -1         0  unknown  0  \n",
       "2  unknown    5   may        76         1     -1         0  unknown  0  "
      ]
     },
     "execution_count": 119,
     "metadata": {},
     "output_type": "execute_result"
    }
   ],
   "source": [
    "data.head(3)"
   ]
  },
  {
   "cell_type": "markdown",
   "metadata": {
    "id": "XnBsnO5EIO-8"
   },
   "source": [
    "# Análisis Exploratorio"
   ]
  },
  {
   "cell_type": "markdown",
   "metadata": {
    "id": "sdZ4TvcvIXdL"
   },
   "source": [
    "Antes de empezar a trabajar en el modelo de clasificación es importante visualziar los datos, validar su estructura y entender las relaciones entre las variables"
   ]
  },
  {
   "cell_type": "markdown",
   "metadata": {
    "id": "OM1vQSyOIkFx"
   },
   "source": [
    "Comencemos analizando la existencia o no de valores nulos"
   ]
  },
  {
   "cell_type": "code",
   "execution_count": 120,
   "metadata": {
    "colab": {
     "base_uri": "https://localhost:8080/"
    },
    "id": "l1G2EEOUIWDw",
    "outputId": "b98f229f-ecea-46e2-f169-a098e8858187"
   },
   "outputs": [
    {
     "name": "stdout",
     "output_type": "stream",
     "text": [
      "<class 'pandas.core.frame.DataFrame'>\n",
      "RangeIndex: 45211 entries, 0 to 45210\n",
      "Data columns (total 17 columns):\n",
      " #   Column     Non-Null Count  Dtype \n",
      "---  ------     --------------  ----- \n",
      " 0   age        45211 non-null  int64 \n",
      " 1   job        45211 non-null  object\n",
      " 2   marital    45211 non-null  object\n",
      " 3   education  45211 non-null  object\n",
      " 4   default    45211 non-null  object\n",
      " 5   balance    45211 non-null  int64 \n",
      " 6   housing    45211 non-null  object\n",
      " 7   loan       45211 non-null  object\n",
      " 8   contact    45211 non-null  object\n",
      " 9   day        45211 non-null  int64 \n",
      " 10  month      45211 non-null  object\n",
      " 11  duration   45211 non-null  int64 \n",
      " 12  campaign   45211 non-null  int64 \n",
      " 13  pdays      45211 non-null  int64 \n",
      " 14  previous   45211 non-null  int64 \n",
      " 15  poutcome   45211 non-null  object\n",
      " 16  y          45211 non-null  int64 \n",
      "dtypes: int64(8), object(9)\n",
      "memory usage: 5.9+ MB\n"
     ]
    }
   ],
   "source": [
    "data.info()"
   ]
  },
  {
   "cell_type": "markdown",
   "metadata": {
    "id": "6LAum59tZuN4"
   },
   "source": []
  },
  {
   "cell_type": "markdown",
   "metadata": {
    "id": "So833PucJBr6"
   },
   "source": [
    "El dataset que se presenta contiene 45.211 observaciones con 16 features a analizar, sin ningún valor nulo. A continuación se muestra todos los nombres de las variables y una breve descripción.\n",
    "\n",
    "Age: edad del cliente\n",
    "\n",
    "- Age: edad del cliente\n",
    "- Job: tipo de trabajo\n",
    "- Marital: estado civil\n",
    "- Education: grado de educación\n",
    "- Default: ¿tiene crédito en mora?\n",
    "- Balance: Saldo de la cuenta\n",
    "- Housing: ¿tiene préstamo para hipotecario?\n",
    "- Loan: ¿tiene préstamo personal?\n",
    "- Contact: comunicación, tipo de contacto\n",
    "- Day: día del mes\n",
    "- Month: último mes de contacto en el año\n",
    "- Duration: duración del último contacto, en segundos\n",
    "- Campaign: número de contactos realizados durante esta campaña para este cliente (incluido el último contacto)-\n",
    "- p-days: número de días que pasaron después de que el cliente fue contactado por última vez desde una campaña anterior\n",
    "- previous: número de contactos realizados antes de esta campaña para este cliente\n",
    "- p-outcome: resultado de la campaña de marketing anterior\n",
    "- y: ¿El cliente ha contratado un depósito a plazo?\n",
    "\n",
    "\n",
    "Además se ve que los tipos de dato son bastante coherentes con lo que se ve reflejado en el vistazo que le dimos a la tabla. En este sentido, una variable a la que podríamos cambiarle su \"tipo\" es ***day*** ya que representa el día de la semana y no tiene sentido que sea numérica, sino **categórica**.\n"
   ]
  },
  {
   "cell_type": "code",
   "execution_count": 121,
   "metadata": {
    "id": "OLccq65nIoSZ"
   },
   "outputs": [],
   "source": [
    "#por que es necesario transformar a categorica si después vamos a convertir en dummy?\n",
    "data['day'] = data.day.astype('category')"
   ]
  },
  {
   "cell_type": "markdown",
   "metadata": {
    "id": "sQHV5TDRKG3s"
   },
   "source": [
    "Ya que estamos convertimos todos los datos que entendemos categoricos a *category*"
   ]
  },
  {
   "cell_type": "code",
   "execution_count": 122,
   "metadata": {
    "id": "sNW33x2aJ9bJ"
   },
   "outputs": [],
   "source": [
    "columnas = data.columns\n",
    "\n",
    "for col in columnas:\n",
    "  if data[col].dtype == 'object':\n",
    "    data[col] = data[col].astype('category')"
   ]
  },
  {
   "cell_type": "markdown",
   "metadata": {
    "id": "kh6ECUx2Kvgn"
   },
   "source": [
    "Ahora que tenemos todo esto medio armado podemos empezar a analizar nuestra data. Empecemos estudiando como se distribuye cada una de las variables según la respuesta que buscamos, para después pasar a ver como se relacionan entre ellas"
   ]
  },
  {
   "cell_type": "code",
   "execution_count": 123,
   "metadata": {},
   "outputs": [
    {
     "data": {
      "text/plain": [
       "<AxesSubplot:xlabel='age'>"
      ]
     },
     "execution_count": 123,
     "metadata": {},
     "output_type": "execute_result"
    },
    {
     "data": {
      "image/png": "[encoded data removed]",
      "text/plain": [
       "<Figure size 842.4x595.44 with 1 Axes>"
      ]
     },
     "metadata": {},
     "output_type": "display_data"
    }
   ],
   "source": [
    "sns.distplot(data[data.y == 0].age, hist = False, norm_hist= True, label = \"no\")\n",
    "sns.distplot(data[data.y == 1].age, hist = False, norm_hist= True, label = \"no\")"
   ]
  },
  {
   "cell_type": "code",
   "execution_count": 124,
   "metadata": {
    "id": "ltYmdRrwwExG"
   },
   "outputs": [],
   "source": [
    "data['age_cat'] = data.age.apply(lambda x: '>60' if x >= 60 else('<40' if x <=40 else \"40-60\"))"
   ]
  },
  {
   "cell_type": "code",
   "execution_count": 125,
   "metadata": {
    "colab": {
     "base_uri": "https://localhost:8080/",
     "height": 517
    },
    "id": "mLpCcm3byHMB",
    "outputId": "ba3cef75-6158-4d03-b42b-776e07957c27"
   },
   "outputs": [
    {
     "data": {
      "image/png": "[encoded data removed]",
      "text/plain": [
       "<Figure size 842.4x595.44 with 1 Axes>"
      ]
     },
     "metadata": {},
     "output_type": "display_data"
    }
   ],
   "source": [
    "a = data.groupby('y')['age_cat'].value_counts(normalize = True).rename('percentage').mul(100).reset_index()\n",
    "g = sns.barplot(x = 'age_cat', y = 'percentage', hue = 'y', data = a)"
   ]
  },
  {
   "cell_type": "code",
   "execution_count": 126,
   "metadata": {
    "colab": {
     "base_uri": "https://localhost:8080/",
     "height": 324
    },
    "id": "zVvaOVfDLF5c",
    "outputId": "a4a077a5-3a4d-4ad1-ee4b-6f326e8b3917"
   },
   "outputs": [
    {
     "data": {
      "image/png": "[encoded data removed]",
      "text/plain": [
       "<Figure size 842.4x595.44 with 1 Axes>"
      ]
     },
     "metadata": {},
     "output_type": "display_data"
    }
   ],
   "source": [
    "a = data.groupby('y')['job'].value_counts(normalize = True).rename('percentage').mul(100).reset_index()\n",
    "g = sns.barplot(x = 'job', y = 'percentage', hue = 'y', data = a)\n",
    "g.set_xticklabels(g.get_xticklabels(), minor = False, rotation = 45);"
   ]
  },
  {
   "cell_type": "code",
   "execution_count": 127,
   "metadata": {
    "colab": {
     "base_uri": "https://localhost:8080/",
     "height": 723
    },
    "id": "r7F1CxRm0LmF",
    "outputId": "759afa59-584c-406f-ded8-e502dba469f7"
   },
   "outputs": [
    {
     "data": {
      "text/html": [
       "<div>\n",
       "<style scoped>\n",
       "    .dataframe tbody tr th:only-of-type {\n",
       "        vertical-align: middle;\n",
       "    }\n",
       "\n",
       "    .dataframe tbody tr th {\n",
       "        vertical-align: top;\n",
       "    }\n",
       "\n",
       "    .dataframe thead th {\n",
       "        text-align: right;\n",
       "    }\n",
       "</style>\n",
       "<table border=\"1\" class=\"dataframe\">\n",
       "  <thead>\n",
       "    <tr style=\"text-align: right;\">\n",
       "      <th></th>\n",
       "      <th>job</th>\n",
       "      <th>y</th>\n",
       "      <th>percentage</th>\n",
       "    </tr>\n",
       "  </thead>\n",
       "  <tbody>\n",
       "    <tr>\n",
       "      <th>0</th>\n",
       "      <td>admin</td>\n",
       "      <td>0</td>\n",
       "      <td>87.797331</td>\n",
       "    </tr>\n",
       "    <tr>\n",
       "      <th>1</th>\n",
       "      <td>admin</td>\n",
       "      <td>1</td>\n",
       "      <td>12.202669</td>\n",
       "    </tr>\n",
       "    <tr>\n",
       "      <th>2</th>\n",
       "      <td>blue</td>\n",
       "      <td>0</td>\n",
       "      <td>92.725031</td>\n",
       "    </tr>\n",
       "    <tr>\n",
       "      <th>3</th>\n",
       "      <td>blue</td>\n",
       "      <td>1</td>\n",
       "      <td>7.274969</td>\n",
       "    </tr>\n",
       "    <tr>\n",
       "      <th>4</th>\n",
       "      <td>entrepreneur</td>\n",
       "      <td>0</td>\n",
       "      <td>91.728312</td>\n",
       "    </tr>\n",
       "    <tr>\n",
       "      <th>5</th>\n",
       "      <td>entrepreneur</td>\n",
       "      <td>1</td>\n",
       "      <td>8.271688</td>\n",
       "    </tr>\n",
       "    <tr>\n",
       "      <th>6</th>\n",
       "      <td>housemaid</td>\n",
       "      <td>0</td>\n",
       "      <td>91.209677</td>\n",
       "    </tr>\n",
       "    <tr>\n",
       "      <th>7</th>\n",
       "      <td>housemaid</td>\n",
       "      <td>1</td>\n",
       "      <td>8.790323</td>\n",
       "    </tr>\n",
       "    <tr>\n",
       "      <th>8</th>\n",
       "      <td>management</td>\n",
       "      <td>0</td>\n",
       "      <td>86.244449</td>\n",
       "    </tr>\n",
       "    <tr>\n",
       "      <th>9</th>\n",
       "      <td>management</td>\n",
       "      <td>1</td>\n",
       "      <td>13.755551</td>\n",
       "    </tr>\n",
       "    <tr>\n",
       "      <th>10</th>\n",
       "      <td>retired</td>\n",
       "      <td>0</td>\n",
       "      <td>77.208481</td>\n",
       "    </tr>\n",
       "    <tr>\n",
       "      <th>11</th>\n",
       "      <td>retired</td>\n",
       "      <td>1</td>\n",
       "      <td>22.791519</td>\n",
       "    </tr>\n",
       "    <tr>\n",
       "      <th>12</th>\n",
       "      <td>self</td>\n",
       "      <td>0</td>\n",
       "      <td>88.157061</td>\n",
       "    </tr>\n",
       "    <tr>\n",
       "      <th>13</th>\n",
       "      <td>self</td>\n",
       "      <td>1</td>\n",
       "      <td>11.842939</td>\n",
       "    </tr>\n",
       "    <tr>\n",
       "      <th>14</th>\n",
       "      <td>services</td>\n",
       "      <td>0</td>\n",
       "      <td>91.116996</td>\n",
       "    </tr>\n",
       "    <tr>\n",
       "      <th>15</th>\n",
       "      <td>services</td>\n",
       "      <td>1</td>\n",
       "      <td>8.883004</td>\n",
       "    </tr>\n",
       "    <tr>\n",
       "      <th>16</th>\n",
       "      <td>student</td>\n",
       "      <td>0</td>\n",
       "      <td>71.321962</td>\n",
       "    </tr>\n",
       "    <tr>\n",
       "      <th>17</th>\n",
       "      <td>student</td>\n",
       "      <td>1</td>\n",
       "      <td>28.678038</td>\n",
       "    </tr>\n",
       "    <tr>\n",
       "      <th>18</th>\n",
       "      <td>technician</td>\n",
       "      <td>0</td>\n",
       "      <td>88.943004</td>\n",
       "    </tr>\n",
       "    <tr>\n",
       "      <th>19</th>\n",
       "      <td>technician</td>\n",
       "      <td>1</td>\n",
       "      <td>11.056996</td>\n",
       "    </tr>\n",
       "    <tr>\n",
       "      <th>20</th>\n",
       "      <td>unemployed</td>\n",
       "      <td>0</td>\n",
       "      <td>84.497314</td>\n",
       "    </tr>\n",
       "    <tr>\n",
       "      <th>21</th>\n",
       "      <td>unemployed</td>\n",
       "      <td>1</td>\n",
       "      <td>15.502686</td>\n",
       "    </tr>\n",
       "    <tr>\n",
       "      <th>22</th>\n",
       "      <td>unknown</td>\n",
       "      <td>0</td>\n",
       "      <td>88.194444</td>\n",
       "    </tr>\n",
       "    <tr>\n",
       "      <th>23</th>\n",
       "      <td>unknown</td>\n",
       "      <td>1</td>\n",
       "      <td>11.805556</td>\n",
       "    </tr>\n",
       "  </tbody>\n",
       "</table>\n",
       "</div>"
      ],
      "text/plain": [
       "             job  y  percentage\n",
       "0          admin  0   87.797331\n",
       "1          admin  1   12.202669\n",
       "2           blue  0   92.725031\n",
       "3           blue  1    7.274969\n",
       "4   entrepreneur  0   91.728312\n",
       "5   entrepreneur  1    8.271688\n",
       "6      housemaid  0   91.209677\n",
       "7      housemaid  1    8.790323\n",
       "8     management  0   86.244449\n",
       "9     management  1   13.755551\n",
       "10       retired  0   77.208481\n",
       "11       retired  1   22.791519\n",
       "12          self  0   88.157061\n",
       "13          self  1   11.842939\n",
       "14      services  0   91.116996\n",
       "15      services  1    8.883004\n",
       "16       student  0   71.321962\n",
       "17       student  1   28.678038\n",
       "18    technician  0   88.943004\n",
       "19    technician  1   11.056996\n",
       "20    unemployed  0   84.497314\n",
       "21    unemployed  1   15.502686\n",
       "22       unknown  0   88.194444\n",
       "23       unknown  1   11.805556"
      ]
     },
     "execution_count": 127,
     "metadata": {},
     "output_type": "execute_result"
    }
   ],
   "source": [
    "data.groupby('job')['y'].value_counts(normalize = True).rename('percentage').mul(100).reset_index()"
   ]
  },
  {
   "cell_type": "code",
   "execution_count": 128,
   "metadata": {
    "id": "u3Hjgm82suq-"
   },
   "outputs": [],
   "source": [
    "job_mas_comun = data.job.mode()\n",
    "job_mas_comun[0]\n",
    "data['job'] = data.job.apply(lambda x: job_mas_comun[0] if x == 'unknown' else x)"
   ]
  },
  {
   "cell_type": "code",
   "execution_count": 129,
   "metadata": {
    "colab": {
     "base_uri": "https://localhost:8080/",
     "height": 297
    },
    "id": "Rrmg5fdUQFnR",
    "outputId": "7b12c9af-19fb-41f9-a9b3-22451100c007"
   },
   "outputs": [
    {
     "data": {
      "text/plain": [
       "<AxesSubplot:xlabel='marital', ylabel='percentage'>"
      ]
     },
     "execution_count": 129,
     "metadata": {},
     "output_type": "execute_result"
    },
    {
     "data": {
      "image/png": "[encoded data removed]",
      "text/plain": [
       "<Figure size 842.4x595.44 with 1 Axes>"
      ]
     },
     "metadata": {},
     "output_type": "display_data"
    }
   ],
   "source": [
    "a = data.groupby('y')['marital'].value_counts(normalize = True).rename('percentage').mul(100).reset_index()\n",
    "sns.barplot(x = 'marital', y = 'percentage', hue = 'y', data = a)"
   ]
  },
  {
   "cell_type": "markdown",
   "metadata": {
    "id": "yiaoC_5PUd4z"
   },
   "source": [
    "Se observa claramente que los solteros y los divorciados tienen una tendencia superior a realizar depósitos en plazo fijo mayor a los casados"
   ]
  },
  {
   "cell_type": "code",
   "execution_count": 130,
   "metadata": {
    "colab": {
     "base_uri": "https://localhost:8080/",
     "height": 297
    },
    "id": "OdwRPKF8TWkw",
    "outputId": "497a7a67-73f5-4be5-970e-8c2fb9884164"
   },
   "outputs": [
    {
     "data": {
      "text/plain": [
       "<AxesSubplot:xlabel='education', ylabel='percentage'>"
      ]
     },
     "execution_count": 130,
     "metadata": {},
     "output_type": "execute_result"
    },
    {
     "data": {
      "image/png": "[encoded data removed]",
      "text/plain": [
       "<Figure size 842.4x595.44 with 1 Axes>"
      ]
     },
     "metadata": {},
     "output_type": "display_data"
    }
   ],
   "source": [
    "a = data.groupby('y')['education'].value_counts(normalize = True).rename('percentage').mul(100).reset_index()\n",
    "sns.barplot(x = 'education', y = 'percentage', hue = 'y', data = a)"
   ]
  },
  {
   "cell_type": "code",
   "execution_count": 131,
   "metadata": {
    "colab": {
     "base_uri": "https://localhost:8080/",
     "height": 297
    },
    "id": "EGnwTkCRvJpr",
    "outputId": "bd49ee26-52ac-4d0b-ccfc-8de9798326d8"
   },
   "outputs": [
    {
     "data": {
      "text/plain": [
       "<AxesSubplot:xlabel='job', ylabel='percentage'>"
      ]
     },
     "execution_count": 131,
     "metadata": {},
     "output_type": "execute_result"
    },
    {
     "data": {
      "image/png": "[encoded data removed]",
      "text/plain": [
       "<Figure size 842.4x595.44 with 1 Axes>"
      ]
     },
     "metadata": {},
     "output_type": "display_data"
    }
   ],
   "source": [
    "a = data.groupby('education')['job'].value_counts(normalize = True).rename('percentage').mul(100).reset_index()\n",
    "sns.barplot(x = 'job', y = 'percentage', hue = 'education', data = a)"
   ]
  },
  {
   "cell_type": "code",
   "execution_count": 132,
   "metadata": {
    "id": "gUZQLYuRvrCL"
   },
   "outputs": [],
   "source": [
    "tabla = data.groupby('job')['education'].agg(lambda x: x.value_counts().index[0])\n",
    "\n",
    "for i in range(0, data.shape[0]-1):\n",
    "  if data.education[i] == 'unknown':\n",
    "    for j in range(0, tabla.shape[0]-1):\n",
    "      if data.job[i] == tabla.index[j]:\n",
    "        data.education[i] = tabla[j]\n",
    "\n",
    "data['education'] = data.education.apply(lambda x: np.NaN if x == 'unknown' else x)\n",
    "data.education.dropna(inplace=True)"
   ]
  },
  {
   "cell_type": "markdown",
   "metadata": {
    "id": "NfrdpO9yUwnT"
   },
   "source": [
    "A priori parece algo razonable pensar que las personas con mayor nivel educativo son mas propensos a realizar depósitos a plazo fijo, tal vez pueda ser que su excedente monetario sea mayor que en el resto de los casos o porque tienen mayor educación financiera. Se ven un pequeño porcentaje de *unkowns* que representan valores nulos y deberíamos imputarlos o removerlos"
   ]
  },
  {
   "cell_type": "code",
   "execution_count": 133,
   "metadata": {
    "colab": {
     "base_uri": "https://localhost:8080/",
     "height": 297
    },
    "id": "uxpvlx4fUuh8",
    "outputId": "12f4be67-43d3-4821-f082-1ddbd7a7f9a4"
   },
   "outputs": [
    {
     "data": {
      "text/plain": [
       "<AxesSubplot:xlabel='default', ylabel='percentage'>"
      ]
     },
     "execution_count": 133,
     "metadata": {},
     "output_type": "execute_result"
    },
    {
     "data": {
      "image/png": "[encoded data removed]",
      "text/plain": [
       "<Figure size 842.4x595.44 with 1 Axes>"
      ]
     },
     "metadata": {},
     "output_type": "display_data"
    }
   ],
   "source": [
    "a = data.groupby('y')['default'].value_counts(normalize = True).rename('percentage').mul(100).reset_index()\n",
    "sns.barplot(x = 'default', y = 'percentage', hue = 'y', data = a)"
   ]
  },
  {
   "cell_type": "markdown",
   "metadata": {
    "id": "1RV6KedGW__U"
   },
   "source": [
    "Resulta bastante lógico pensar que los casos con default crediticio ni siquiera sean contactados para ofrecerles un plazo fijo, y que en caso de sean contactados, la tasa de aceptación sea menor"
   ]
  },
  {
   "cell_type": "code",
   "execution_count": 134,
   "metadata": {
    "colab": {
     "base_uri": "https://localhost:8080/",
     "height": 386
    },
    "id": "kGqGDE8ZWcFT",
    "outputId": "9d7679b7-8bcb-46c5-ab99-fba9dd9a05a7"
   },
   "outputs": [
    {
     "data": {
      "text/plain": [
       "<matplotlib.legend.Legend at 0x1d5acf67fc8>"
      ]
     },
     "execution_count": 134,
     "metadata": {},
     "output_type": "execute_result"
    },
    {
     "data": {
      "image/png": "[encoded data removed]",
      "text/plain": [
       "<Figure size 842.4x595.44 with 1 Axes>"
      ]
     },
     "metadata": {},
     "output_type": "display_data"
    }
   ],
   "source": [
    "sns.distplot(data[data.y == 0].balance, hist = False, norm_hist= True, label = \"no\")\n",
    "sns.distplot(data[data.y == 1].balance, hist = False, norm_hist= True, label = \"yes\")\n",
    "plt.legend()"
   ]
  },
  {
   "cell_type": "code",
   "execution_count": 135,
   "metadata": {
    "colab": {
     "base_uri": "https://localhost:8080/",
     "height": 297
    },
    "id": "12WqSxadrzV6",
    "outputId": "c6847e20-81a8-454a-fb93-8026dd3d8f88"
   },
   "outputs": [
    {
     "data": {
      "text/plain": [
       "<AxesSubplot:xlabel='y', ylabel='balance'>"
      ]
     },
     "execution_count": 135,
     "metadata": {},
     "output_type": "execute_result"
    },
    {
     "data": {
      "image/png": "[encoded data removed]",
      "text/plain": [
       "<Figure size 842.4x595.44 with 1 Axes>"
      ]
     },
     "metadata": {},
     "output_type": "display_data"
    }
   ],
   "source": [
    "sns.boxplot(x = data.y, y = (data[data.balance < 25000].balance))"
   ]
  },
  {
   "cell_type": "markdown",
   "metadata": {
    "id": "YT8ZhpF79HAt"
   },
   "source": [
    "Aca vamos a tener que trabajar un poco sobre los outliers, ya que hay valores muy extremos. Dado que se trata de los saldos de cuentas bancarias otra buena posibilidad sería transformar la variable con un *ln* para normalizarla"
   ]
  },
  {
   "cell_type": "code",
   "execution_count": 136,
   "metadata": {
    "colab": {
     "base_uri": "https://localhost:8080/",
     "height": 297
    },
    "id": "aGm5kIVpuYdt",
    "outputId": "5621588f-5482-483b-d5d0-459ec849ab42"
   },
   "outputs": [
    {
     "data": {
      "text/plain": [
       "<AxesSubplot:xlabel='loan', ylabel='percentage'>"
      ]
     },
     "execution_count": 136,
     "metadata": {},
     "output_type": "execute_result"
    },
    {
     "data": {
      "image/png": "[encoded data removed]",
      "text/plain": [
       "<Figure size 842.4x595.44 with 1 Axes>"
      ]
     },
     "metadata": {},
     "output_type": "display_data"
    }
   ],
   "source": [
    "a = data.groupby('y')['loan'].value_counts(normalize = True).rename('percentage').mul(100).reset_index()\n",
    "sns.barplot(x = 'loan', y = 'percentage', hue = 'y', data = a)"
   ]
  },
  {
   "cell_type": "code",
   "execution_count": 137,
   "metadata": {
    "colab": {
     "base_uri": "https://localhost:8080/",
     "height": 297
    },
    "id": "k9Z3r_NX9bJ2",
    "outputId": "07340b18-79a5-45a4-95f3-dc76be45133c"
   },
   "outputs": [
    {
     "data": {
      "text/plain": [
       "<AxesSubplot:xlabel='housing', ylabel='percentage'>"
      ]
     },
     "execution_count": 137,
     "metadata": {},
     "output_type": "execute_result"
    },
    {
     "data": {
      "image/png": "[encoded data removed]",
      "text/plain": [
       "<Figure size 842.4x595.44 with 1 Axes>"
      ]
     },
     "metadata": {},
     "output_type": "display_data"
    }
   ],
   "source": [
    "a = data.groupby('y')['housing'].value_counts(normalize = True).rename('percentage').mul(100).reset_index()\n",
    "sns.barplot(x = 'housing', y = 'percentage', hue = 'y', data = a)"
   ]
  },
  {
   "cell_type": "markdown",
   "metadata": {
    "id": "74GiuSR99tNb"
   },
   "source": [
    "Esta claro que aquellos usuarios que no tienen prestamos personales o hipotecarios son mas propensos a realizr un depósito en plazo fijo que aquellosq ue tienen deudas que saldar a fin de mes"
   ]
  },
  {
   "cell_type": "code",
   "execution_count": 138,
   "metadata": {
    "colab": {
     "base_uri": "https://localhost:8080/",
     "height": 297
    },
    "id": "EIRWD8MV9gJ9",
    "outputId": "9cb10f34-8530-4b65-9f6e-746618b2cfbc"
   },
   "outputs": [
    {
     "data": {
      "text/plain": [
       "<AxesSubplot:xlabel='contact', ylabel='percentage'>"
      ]
     },
     "execution_count": 138,
     "metadata": {},
     "output_type": "execute_result"
    },
    {
     "data": {
      "image/png": "[encoded data removed]",
      "text/plain": [
       "<Figure size 842.4x595.44 with 1 Axes>"
      ]
     },
     "metadata": {},
     "output_type": "display_data"
    }
   ],
   "source": [
    "a = data.groupby('y')['contact'].value_counts(normalize = True).rename('percentage').mul(100).reset_index()\n",
    "sns.barplot(x = 'contact', y = 'percentage', hue = 'y', data = a)"
   ]
  },
  {
   "cell_type": "code",
   "execution_count": 139,
   "metadata": {
    "colab": {
     "base_uri": "https://localhost:8080/",
     "height": 297
    },
    "id": "8lE0n27Qpgci",
    "outputId": "d2ef90a8-eefe-4159-8d40-1bcf834cade6"
   },
   "outputs": [
    {
     "data": {
      "text/plain": [
       "<AxesSubplot:xlabel='education', ylabel='percentage'>"
      ]
     },
     "execution_count": 139,
     "metadata": {},
     "output_type": "execute_result"
    },
    {
     "data": {
      "image/png": "[encoded data removed]",
      "text/plain": [
       "<Figure size 842.4x595.44 with 1 Axes>"
      ]
     },
     "metadata": {},
     "output_type": "display_data"
    }
   ],
   "source": [
    "a = data.groupby('contact')['education'].value_counts(normalize = True).rename('percentage').mul(100).reset_index()\n",
    "sns.barplot(x = 'education', y = 'percentage', hue = 'contact', data = a)"
   ]
  },
  {
   "cell_type": "code",
   "execution_count": 140,
   "metadata": {
    "colab": {
     "base_uri": "https://localhost:8080/",
     "height": 421
    },
    "id": "X7EKa7-yqIyR",
    "outputId": "d427537f-c4e9-41e6-a9fa-9f998d69176d"
   },
   "outputs": [
    {
     "data": {
      "text/plain": [
       "<matplotlib.legend.Legend at 0x1d5ae1f6108>"
      ]
     },
     "execution_count": 140,
     "metadata": {},
     "output_type": "execute_result"
    },
    {
     "data": {
      "image/png": "[encoded data removed]",
      "text/plain": [
       "<Figure size 842.4x595.44 with 1 Axes>"
      ]
     },
     "metadata": {},
     "output_type": "display_data"
    }
   ],
   "source": [
    "sns.distplot(data[data.contact == 'cellular'].age, label= 'cel')\n",
    "sns.distplot(data[data.contact == 'telephone'].age, label = 'tel')\n",
    "sns.distplot(data[data.contact == 'unknown'].age, label = 'u')\n",
    "plt.legend()"
   ]
  },
  {
   "cell_type": "code",
   "execution_count": 141,
   "metadata": {
    "colab": {
     "base_uri": "https://localhost:8080/",
     "height": 279
    },
    "id": "ZNEtzi_K-bCQ",
    "outputId": "9bf059a8-3f37-44b3-a6c1-c881fa9b7096"
   },
   "outputs": [
    {
     "data": {
      "image/png": "[encoded data removed]",
      "text/plain": [
       "<Figure size 842.4x595.44 with 1 Axes>"
      ]
     },
     "metadata": {},
     "output_type": "display_data"
    }
   ],
   "source": [
    "a = data.groupby('y')['day'].value_counts(normalize = True).rename('percentage').mul(100).reset_index()\n",
    "sns.barplot(x = 'day', y = 'percentage', hue = 'y', data = a)\n",
    "sns.set(rc={'figure.figsize':(16,8.27)})"
   ]
  },
  {
   "cell_type": "code",
   "execution_count": 142,
   "metadata": {
    "colab": {
     "base_uri": "https://localhost:8080/",
     "height": 517
    },
    "id": "4N0sOxPo-zlW",
    "outputId": "264e2423-0c41-4cb8-f232-a1adcc1217b1"
   },
   "outputs": [
    {
     "data": {
      "image/png": "[encoded data removed]",
      "text/plain": [
       "<Figure size 1152x595.44 with 1 Axes>"
      ]
     },
     "metadata": {},
     "output_type": "display_data"
    }
   ],
   "source": [
    "data['semana'] = data.day.apply(lambda x: 'principio' if x <= 10 else ('mediados' if ((x > 10) and (x <= 20)) else 'fin'))\n",
    "a = data.groupby('y')['semana'].value_counts(normalize = True).rename('percentage').mul(100).reset_index()\n",
    "sns.barplot(x = 'semana', y = 'percentage', hue = 'y', data = a)\n",
    "sns.set(rc={'figure.figsize':(11.7,8.27)})"
   ]
  },
  {
   "cell_type": "code",
   "execution_count": 143,
   "metadata": {
    "colab": {
     "base_uri": "https://localhost:8080/",
     "height": 535
    },
    "id": "lW_VGaNpDTlI",
    "outputId": "3ea9cefe-39d1-4afc-b00b-1d2705c2e011"
   },
   "outputs": [
    {
     "data": {
      "text/plain": [
       "<AxesSubplot:xlabel='month', ylabel='percentage'>"
      ]
     },
     "execution_count": 143,
     "metadata": {},
     "output_type": "execute_result"
    },
    {
     "data": {
      "image/png": "[encoded data removed]",
      "text/plain": [
       "<Figure size 842.4x595.44 with 1 Axes>"
      ]
     },
     "metadata": {},
     "output_type": "display_data"
    }
   ],
   "source": [
    "a = data.groupby('y')['month'].value_counts(normalize = True).rename('percentage').mul(100).reset_index()\n",
    "sns.barplot(x = 'month', y = 'percentage', hue = 'y', data = a)"
   ]
  },
  {
   "cell_type": "code",
   "execution_count": 144,
   "metadata": {
    "colab": {
     "base_uri": "https://localhost:8080/",
     "height": 535
    },
    "id": "sxkHLW6zFxk2",
    "outputId": "713861fb-0d57-44b4-e1d8-b5d90eb665fc"
   },
   "outputs": [
    {
     "data": {
      "text/plain": [
       "<AxesSubplot:xlabel='quarter', ylabel='percentage'>"
      ]
     },
     "execution_count": 144,
     "metadata": {},
     "output_type": "execute_result"
    },
    {
     "data": {
      "image/png": "[encoded data removed]",
      "text/plain": [
       "<Figure size 842.4x595.44 with 1 Axes>"
      ]
     },
     "metadata": {},
     "output_type": "display_data"
    }
   ],
   "source": [
    "data['quarter'] = data.month.apply(lambda x: 'Q1' if x in ['jan', 'feb', 'mar', 'apr'] else ('Q2' if x in ['may', 'jun', 'jul', 'aug'] else 'Q3'))\n",
    "a = data.groupby('y')['quarter'].value_counts(normalize = True).rename('percentage').mul(100).reset_index()\n",
    "sns.barplot(x = 'quarter', y = 'percentage', hue = 'y', data = a)"
   ]
  },
  {
   "cell_type": "markdown",
   "metadata": {
    "id": "JdozVmZvG0AW"
   },
   "source": [
    "Se ve que los contactos tienen un efecto positivo al principio y al final del año, mientras que en el cuatrimestre intermedio las personas tienen una menor tendencia a realizar depósitos, tal vez por mayor incertidumbre respecto a lo que podría suceder con sus ahorros"
   ]
  },
  {
   "cell_type": "code",
   "execution_count": 145,
   "metadata": {
    "colab": {
     "base_uri": "https://localhost:8080/",
     "height": 383
    },
    "id": "XA9h18PBGoeJ",
    "outputId": "63aed7de-64cd-4227-e6a0-c073a41e995d"
   },
   "outputs": [
    {
     "data": {
      "text/plain": [
       "(array([ 605., 2313., 2118., 1830., 1205.,   96.,   39.,   18.,   18.,\n",
       "          15.]),\n",
       " array([  1.,  88., 175., 262., 349., 436., 523., 610., 697., 784., 871.]),\n",
       " <BarContainer object of 10 artists>)"
      ]
     },
     "execution_count": 145,
     "metadata": {},
     "output_type": "execute_result"
    },
    {
     "data": {
      "image/png": "[encoded data removed]",
      "text/plain": [
       "<Figure size 842.4x595.44 with 1 Axes>"
      ]
     },
     "metadata": {},
     "output_type": "display_data"
    }
   ],
   "source": [
    "plt.hist(x = 'pdays',  data = data[data['pdays'] >-1], bins = 10)"
   ]
  },
  {
   "cell_type": "code",
   "execution_count": 146,
   "metadata": {
    "colab": {
     "base_uri": "https://localhost:8080/",
     "height": 535
    },
    "id": "_LL28z4FIZya",
    "outputId": "2ba5dc41-fd25-4f86-ef7b-91969e58e7e5"
   },
   "outputs": [
    {
     "data": {
      "text/plain": [
       "<AxesSubplot:xlabel='poutcome', ylabel='percentage'>"
      ]
     },
     "execution_count": 146,
     "metadata": {},
     "output_type": "execute_result"
    },
    {
     "data": {
      "image/png": "[encoded data removed]",
      "text/plain": [
       "<Figure size 842.4x595.44 with 1 Axes>"
      ]
     },
     "metadata": {},
     "output_type": "display_data"
    }
   ],
   "source": [
    "a = data.groupby('y')['poutcome'].value_counts(normalize = True).rename('percentage').mul(100).reset_index()\n",
    "sns.barplot(x = 'poutcome', y = 'percentage', hue = 'y', data = a)"
   ]
  },
  {
   "cell_type": "code",
   "execution_count": 147,
   "metadata": {
    "id": "6m6aIrkUJbIm"
   },
   "outputs": [],
   "source": [
    "data['poutcome'] = data.apply(lambda x: 'sin contacto' if x['pdays'] == -1 else x['poutcome'], axis = 1)\n",
    "data['poutcome'] = data.poutcome.apply(lambda x: np.NaN if x == 'unknown' else x)\n",
    "data.dropna(axis = 0, inplace = True)"
   ]
  },
  {
   "cell_type": "code",
   "execution_count": 148,
   "metadata": {
    "id": "7ct5a20kM8N6"
   },
   "outputs": [],
   "source": [
    "other_per = data[(data.poutcome == 'success') | (data.poutcome == 'failure')].poutcome.value_counts() / data[(data.poutcome == 'success') | (data.poutcome == 'failure')].shape[0]\n",
    "\n",
    "success = other_per[1]\n",
    "fail = other_per[0]"
   ]
  },
  {
   "cell_type": "code",
   "execution_count": 149,
   "metadata": {
    "id": "wIR3NoWYUOGr"
   },
   "outputs": [],
   "source": [
    "data['poutcome'] = data.poutcome.apply(lambda x: np.NaN if x == 'other' else x)\n",
    "data['poutcome'] = data.poutcome.apply(lambda x: 'failure' if ((x is np.NaN) & (np.random.uniform() < fail)) else ('success' if x is np.NaN else x))"
   ]
  },
  {
   "cell_type": "code",
   "execution_count": 150,
   "metadata": {},
   "outputs": [
    {
     "data": {
      "text/html": [
       "<div>\n",
       "<style scoped>\n",
       "    .dataframe tbody tr th:only-of-type {\n",
       "        vertical-align: middle;\n",
       "    }\n",
       "\n",
       "    .dataframe tbody tr th {\n",
       "        vertical-align: top;\n",
       "    }\n",
       "\n",
       "    .dataframe thead th {\n",
       "        text-align: right;\n",
       "    }\n",
       "</style>\n",
       "<table border=\"1\" class=\"dataframe\">\n",
       "  <thead>\n",
       "    <tr style=\"text-align: right;\">\n",
       "      <th></th>\n",
       "      <th>age</th>\n",
       "      <th>job</th>\n",
       "      <th>marital</th>\n",
       "      <th>education</th>\n",
       "      <th>default</th>\n",
       "      <th>balance</th>\n",
       "      <th>housing</th>\n",
       "      <th>loan</th>\n",
       "      <th>contact</th>\n",
       "      <th>day</th>\n",
       "      <th>...</th>\n",
       "      <th>duration</th>\n",
       "      <th>campaign</th>\n",
       "      <th>pdays</th>\n",
       "      <th>previous</th>\n",
       "      <th>poutcome</th>\n",
       "      <th>y</th>\n",
       "      <th>age_cat</th>\n",
       "      <th>semana</th>\n",
       "      <th>quarter</th>\n",
       "      <th>range_pdays</th>\n",
       "    </tr>\n",
       "  </thead>\n",
       "  <tbody>\n",
       "    <tr>\n",
       "      <th>0</th>\n",
       "      <td>58</td>\n",
       "      <td>management</td>\n",
       "      <td>married</td>\n",
       "      <td>tertiary</td>\n",
       "      <td>no</td>\n",
       "      <td>2143</td>\n",
       "      <td>yes</td>\n",
       "      <td>no</td>\n",
       "      <td>unknown</td>\n",
       "      <td>5</td>\n",
       "      <td>...</td>\n",
       "      <td>261</td>\n",
       "      <td>1</td>\n",
       "      <td>-1</td>\n",
       "      <td>0</td>\n",
       "      <td>sin contacto</td>\n",
       "      <td>0</td>\n",
       "      <td>40-60</td>\n",
       "      <td>principio</td>\n",
       "      <td>Q2</td>\n",
       "      <td>OTRO</td>\n",
       "    </tr>\n",
       "    <tr>\n",
       "      <th>1</th>\n",
       "      <td>44</td>\n",
       "      <td>technician</td>\n",
       "      <td>single</td>\n",
       "      <td>secondary</td>\n",
       "      <td>no</td>\n",
       "      <td>29</td>\n",
       "      <td>yes</td>\n",
       "      <td>no</td>\n",
       "      <td>unknown</td>\n",
       "      <td>5</td>\n",
       "      <td>...</td>\n",
       "      <td>151</td>\n",
       "      <td>1</td>\n",
       "      <td>-1</td>\n",
       "      <td>0</td>\n",
       "      <td>sin contacto</td>\n",
       "      <td>0</td>\n",
       "      <td>40-60</td>\n",
       "      <td>principio</td>\n",
       "      <td>Q2</td>\n",
       "      <td>OTRO</td>\n",
       "    </tr>\n",
       "    <tr>\n",
       "      <th>2</th>\n",
       "      <td>33</td>\n",
       "      <td>entrepreneur</td>\n",
       "      <td>married</td>\n",
       "      <td>secondary</td>\n",
       "      <td>no</td>\n",
       "      <td>2</td>\n",
       "      <td>yes</td>\n",
       "      <td>yes</td>\n",
       "      <td>unknown</td>\n",
       "      <td>5</td>\n",
       "      <td>...</td>\n",
       "      <td>76</td>\n",
       "      <td>1</td>\n",
       "      <td>-1</td>\n",
       "      <td>0</td>\n",
       "      <td>sin contacto</td>\n",
       "      <td>0</td>\n",
       "      <td>&lt;40</td>\n",
       "      <td>principio</td>\n",
       "      <td>Q2</td>\n",
       "      <td>OTRO</td>\n",
       "    </tr>\n",
       "    <tr>\n",
       "      <th>3</th>\n",
       "      <td>47</td>\n",
       "      <td>blue</td>\n",
       "      <td>married</td>\n",
       "      <td>secondary</td>\n",
       "      <td>no</td>\n",
       "      <td>1506</td>\n",
       "      <td>yes</td>\n",
       "      <td>no</td>\n",
       "      <td>unknown</td>\n",
       "      <td>5</td>\n",
       "      <td>...</td>\n",
       "      <td>92</td>\n",
       "      <td>1</td>\n",
       "      <td>-1</td>\n",
       "      <td>0</td>\n",
       "      <td>sin contacto</td>\n",
       "      <td>0</td>\n",
       "      <td>40-60</td>\n",
       "      <td>principio</td>\n",
       "      <td>Q2</td>\n",
       "      <td>OTRO</td>\n",
       "    </tr>\n",
       "    <tr>\n",
       "      <th>4</th>\n",
       "      <td>33</td>\n",
       "      <td>blue</td>\n",
       "      <td>single</td>\n",
       "      <td>secondary</td>\n",
       "      <td>no</td>\n",
       "      <td>1</td>\n",
       "      <td>no</td>\n",
       "      <td>no</td>\n",
       "      <td>unknown</td>\n",
       "      <td>5</td>\n",
       "      <td>...</td>\n",
       "      <td>198</td>\n",
       "      <td>1</td>\n",
       "      <td>-1</td>\n",
       "      <td>0</td>\n",
       "      <td>sin contacto</td>\n",
       "      <td>0</td>\n",
       "      <td>&lt;40</td>\n",
       "      <td>principio</td>\n",
       "      <td>Q2</td>\n",
       "      <td>OTRO</td>\n",
       "    </tr>\n",
       "    <tr>\n",
       "      <th>...</th>\n",
       "      <td>...</td>\n",
       "      <td>...</td>\n",
       "      <td>...</td>\n",
       "      <td>...</td>\n",
       "      <td>...</td>\n",
       "      <td>...</td>\n",
       "      <td>...</td>\n",
       "      <td>...</td>\n",
       "      <td>...</td>\n",
       "      <td>...</td>\n",
       "      <td>...</td>\n",
       "      <td>...</td>\n",
       "      <td>...</td>\n",
       "      <td>...</td>\n",
       "      <td>...</td>\n",
       "      <td>...</td>\n",
       "      <td>...</td>\n",
       "      <td>...</td>\n",
       "      <td>...</td>\n",
       "      <td>...</td>\n",
       "      <td>...</td>\n",
       "    </tr>\n",
       "    <tr>\n",
       "      <th>45206</th>\n",
       "      <td>51</td>\n",
       "      <td>technician</td>\n",
       "      <td>married</td>\n",
       "      <td>tertiary</td>\n",
       "      <td>no</td>\n",
       "      <td>825</td>\n",
       "      <td>no</td>\n",
       "      <td>no</td>\n",
       "      <td>cellular</td>\n",
       "      <td>17</td>\n",
       "      <td>...</td>\n",
       "      <td>977</td>\n",
       "      <td>3</td>\n",
       "      <td>-1</td>\n",
       "      <td>0</td>\n",
       "      <td>sin contacto</td>\n",
       "      <td>1</td>\n",
       "      <td>40-60</td>\n",
       "      <td>mediados</td>\n",
       "      <td>Q3</td>\n",
       "      <td>OTRO</td>\n",
       "    </tr>\n",
       "    <tr>\n",
       "      <th>45207</th>\n",
       "      <td>71</td>\n",
       "      <td>retired</td>\n",
       "      <td>divorced</td>\n",
       "      <td>primary</td>\n",
       "      <td>no</td>\n",
       "      <td>1729</td>\n",
       "      <td>no</td>\n",
       "      <td>no</td>\n",
       "      <td>cellular</td>\n",
       "      <td>17</td>\n",
       "      <td>...</td>\n",
       "      <td>456</td>\n",
       "      <td>2</td>\n",
       "      <td>-1</td>\n",
       "      <td>0</td>\n",
       "      <td>sin contacto</td>\n",
       "      <td>1</td>\n",
       "      <td>&gt;60</td>\n",
       "      <td>mediados</td>\n",
       "      <td>Q3</td>\n",
       "      <td>OTRO</td>\n",
       "    </tr>\n",
       "    <tr>\n",
       "      <th>45208</th>\n",
       "      <td>72</td>\n",
       "      <td>retired</td>\n",
       "      <td>married</td>\n",
       "      <td>secondary</td>\n",
       "      <td>no</td>\n",
       "      <td>5715</td>\n",
       "      <td>no</td>\n",
       "      <td>no</td>\n",
       "      <td>cellular</td>\n",
       "      <td>17</td>\n",
       "      <td>...</td>\n",
       "      <td>1127</td>\n",
       "      <td>5</td>\n",
       "      <td>184</td>\n",
       "      <td>3</td>\n",
       "      <td>success</td>\n",
       "      <td>1</td>\n",
       "      <td>&gt;60</td>\n",
       "      <td>mediados</td>\n",
       "      <td>Q3</td>\n",
       "      <td>CORTO</td>\n",
       "    </tr>\n",
       "    <tr>\n",
       "      <th>45209</th>\n",
       "      <td>57</td>\n",
       "      <td>blue</td>\n",
       "      <td>married</td>\n",
       "      <td>secondary</td>\n",
       "      <td>no</td>\n",
       "      <td>668</td>\n",
       "      <td>no</td>\n",
       "      <td>no</td>\n",
       "      <td>telephone</td>\n",
       "      <td>17</td>\n",
       "      <td>...</td>\n",
       "      <td>508</td>\n",
       "      <td>4</td>\n",
       "      <td>-1</td>\n",
       "      <td>0</td>\n",
       "      <td>sin contacto</td>\n",
       "      <td>0</td>\n",
       "      <td>40-60</td>\n",
       "      <td>mediados</td>\n",
       "      <td>Q3</td>\n",
       "      <td>OTRO</td>\n",
       "    </tr>\n",
       "    <tr>\n",
       "      <th>45210</th>\n",
       "      <td>37</td>\n",
       "      <td>entrepreneur</td>\n",
       "      <td>married</td>\n",
       "      <td>secondary</td>\n",
       "      <td>no</td>\n",
       "      <td>2971</td>\n",
       "      <td>no</td>\n",
       "      <td>no</td>\n",
       "      <td>cellular</td>\n",
       "      <td>17</td>\n",
       "      <td>...</td>\n",
       "      <td>361</td>\n",
       "      <td>2</td>\n",
       "      <td>188</td>\n",
       "      <td>11</td>\n",
       "      <td>success</td>\n",
       "      <td>0</td>\n",
       "      <td>&lt;40</td>\n",
       "      <td>mediados</td>\n",
       "      <td>Q3</td>\n",
       "      <td>CORTO</td>\n",
       "    </tr>\n",
       "  </tbody>\n",
       "</table>\n",
       "<p>41209 rows × 21 columns</p>\n",
       "</div>"
      ],
      "text/plain": [
       "       age           job   marital  education default  balance housing loan  \\\n",
       "0       58    management   married   tertiary      no     2143     yes   no   \n",
       "1       44    technician    single  secondary      no       29     yes   no   \n",
       "2       33  entrepreneur   married  secondary      no        2     yes  yes   \n",
       "3       47          blue   married  secondary      no     1506     yes   no   \n",
       "4       33          blue    single  secondary      no        1      no   no   \n",
       "...    ...           ...       ...        ...     ...      ...     ...  ...   \n",
       "45206   51    technician   married   tertiary      no      825      no   no   \n",
       "45207   71       retired  divorced    primary      no     1729      no   no   \n",
       "45208   72       retired   married  secondary      no     5715      no   no   \n",
       "45209   57          blue   married  secondary      no      668      no   no   \n",
       "45210   37  entrepreneur   married  secondary      no     2971      no   no   \n",
       "\n",
       "         contact day  ... duration  campaign  pdays  previous      poutcome  \\\n",
       "0        unknown   5  ...      261         1     -1         0  sin contacto   \n",
       "1        unknown   5  ...      151         1     -1         0  sin contacto   \n",
       "2        unknown   5  ...       76         1     -1         0  sin contacto   \n",
       "3        unknown   5  ...       92         1     -1         0  sin contacto   \n",
       "4        unknown   5  ...      198         1     -1         0  sin contacto   \n",
       "...          ...  ..  ...      ...       ...    ...       ...           ...   \n",
       "45206   cellular  17  ...      977         3     -1         0  sin contacto   \n",
       "45207   cellular  17  ...      456         2     -1         0  sin contacto   \n",
       "45208   cellular  17  ...     1127         5    184         3       success   \n",
       "45209  telephone  17  ...      508         4     -1         0  sin contacto   \n",
       "45210   cellular  17  ...      361         2    188        11       success   \n",
       "\n",
       "       y  age_cat     semana quarter range_pdays  \n",
       "0      0    40-60  principio      Q2        OTRO  \n",
       "1      0    40-60  principio      Q2        OTRO  \n",
       "2      0      <40  principio      Q2        OTRO  \n",
       "3      0    40-60  principio      Q2        OTRO  \n",
       "4      0      <40  principio      Q2        OTRO  \n",
       "...   ..      ...        ...     ...         ...  \n",
       "45206  1    40-60   mediados      Q3        OTRO  \n",
       "45207  1      >60   mediados      Q3        OTRO  \n",
       "45208  1      >60   mediados      Q3       CORTO  \n",
       "45209  0    40-60   mediados      Q3        OTRO  \n",
       "45210  0      <40   mediados      Q3       CORTO  \n",
       "\n",
       "[41209 rows x 21 columns]"
      ]
     },
     "execution_count": 150,
     "metadata": {},
     "output_type": "execute_result"
    }
   ],
   "source": [
    "data['range_pdays'] = data.pdays.apply(lambda x: 'LARGO' if x >= 400 else ('MEDIO' if x >=200 else ('CORTO' if x >=0 else 'OTRO')))\n",
    "data[(data.pdays < 200) ]"
   ]
  },
  {
   "cell_type": "code",
   "execution_count": 151,
   "metadata": {
    "id": "zaCfy5D_dcW6"
   },
   "outputs": [],
   "source": [
    "#Eliminamos los outliers detectados para Balance\n",
    "data = data[data.balance < 50000]"
   ]
  },
  {
   "cell_type": "markdown",
   "metadata": {},
   "source": [
    "# Baseline"
   ]
  },
  {
   "cell_type": "code",
   "execution_count": 310,
   "metadata": {},
   "outputs": [
    {
     "name": "stdout",
     "output_type": "stream",
     "text": [
      "Accuracy Baseline: 0.8\n",
      "\n",
      "Confusion matrix Baseline:\n",
      "\n",
      " [[4715  805]\n",
      " [ 528  579]]\n",
      "\n",
      "Recall Baseline:\n",
      " 0.5230352303523035\n",
      "\n",
      "Precision Baseline:\n",
      " 0.41835260115606937\n",
      "\n",
      "F1_score Baseline:\n",
      " 0.4648735447611401\n",
      "\n",
      "AUC:\n",
      " 0.689\n",
      "\n",
      "Modelo Nulo:\n",
      "\n",
      " 0    0.832956\n",
      "1    0.167044\n",
      "Name: y, dtype: float64\n"
     ]
    }
   ],
   "source": [
    "# para tener una referencia sobre los resultados esperables para este modelo, correremos sobre los datos originales \n",
    "# un estimador NB. \n",
    "\n",
    "# La unica conversión a realizar es de variables categoricas originales en dummies para poder incluirlas en la ejecucion.\n",
    "# Tambien debemos exlcuir Durantion  ya que como indica la doc. del dataset, no está disponible al momento de realizar la prediccion. \n",
    "\n",
    "df_baseline= df_baseline[df_baseline.housing == 'no']\n",
    "\n",
    "cat = pd.DataFrame(df_baseline.dtypes[df_baseline.dtypes == 'object']).reset_index()['index']\n",
    "num = pd.DataFrame(df_baseline.dtypes[df_baseline.dtypes != 'object']).reset_index()['index']\n",
    "\n",
    "# convertimos en dummies las variables categoricas del Dataset\n",
    "dummies_baseline = pd.get_dummies(df_baseline[cat], drop_first = True)\n",
    "\n",
    "# features númericas para conformar el df final. La clase ('y') es númerica, queda dentro de este subset.\n",
    "num_baseline = df_baseline[num]\n",
    "num_baseline.drop('duration', inplace = True, axis = 1)\n",
    "\n",
    "#concatenamos ambos nuevamente en un único dataset con las variables cat como dummies y las númericas. \n",
    "baseline = pd.concat([num_baseline, dummies_baseline], axis = 1)\n",
    "\n",
    "\n",
    "#creamos matriz de features y vector resultados y creamos Train y Test.\n",
    "y = baseline.y\n",
    "X = baseline.drop('y',  axis = 1)\n",
    "X_train, X_test, y_train, y_test = train_test_split(X, y, test_size = 0.33, random_state = 1000)\n",
    "\n",
    "\n",
    "# colstd = (X_train.dtypes[X_train.dtypes == 'int64'].reset_index()['index']).to_list()\n",
    "# coldum = (X_train.dtypes[X_train.dtypes != 'int64'].reset_index()['index']).to_list()\n",
    "\n",
    "\n",
    "#Standard scaling\n",
    "scaler = StandardScaler()\n",
    "X_train = scaler.fit_transform(X_train)\n",
    "X_test = scaler.transform(X_test)\n",
    "\n",
    "from sklearn.metrics import recall_score\n",
    "from sklearn.metrics import precision_score\n",
    "from sklearn.metrics import f1_score\n",
    "from sklearn.metrics import roc_auc_score, roc_curve\n",
    "\n",
    "gnb = GaussianNB()\n",
    "gnb.fit(X_train, y_train)\n",
    "y_pred_NB = gnb.predict(X_test)\n",
    "y_pred_proba_NB = gnb.predict_proba(X_test)\n",
    "\n",
    "print(\"Accuracy Baseline:\" , round(accuracy_score(y_test, y_pred_NB), 2))\n",
    "\n",
    "conf_mat_NB = confusion_matrix(y_test, y_pred_NB)\n",
    "\n",
    "print('\\nConfusion matrix Baseline:\\n\\n', conf_mat_NB)\n",
    "#print('\\nConfusion matrix NB % del Total:\\n\\n', (conf_mat / (Y_test.size))*100)\n",
    "print('\\nRecall Baseline:\\n', recall_score(y_test, y_pred_NB))\n",
    "\n",
    "print('\\nPrecision Baseline:\\n', precision_score(y_test, y_pred_NB))\n",
    "\n",
    "print('\\nF1_score Baseline:\\n', f1_score(y_test,y_pred_NB))\n",
    "\n",
    "print('\\nAUC:\\n', round(roc_auc_score(y_test, y_pred_NB),3))\n",
    "\n",
    "#comparado contra el modelo nulo\n",
    "print('\\nModelo Nulo:\\n\\n',y_test.value_counts(normalize = True))\n",
    "#el modelo nulo es mejor en Accuracy por el desbalanceo de clases de los datos.\n"
   ]
  },
  {
   "cell_type": "markdown",
   "metadata": {
    "id": "RCJV2ZEWgUGR"
   },
   "source": [
    "# Modelado"
   ]
  },
  {
   "cell_type": "code",
   "execution_count": 70,
   "metadata": {
    "id": "w0SMtlG5fjTQ"
   },
   "outputs": [],
   "source": [
    "from sklearn.linear_model import LogisticRegressionCV, LogisticRegression\n",
    "from sklearn.neighbors import KNeighborsClassifier\n",
    "from sklearn.naive_bayes import GaussianNB\n",
    "from sklearn.preprocessing import OrdinalEncoder, OneHotEncoder, RobustScaler, StandardScaler\n",
    "from sklearn.pipeline import Pipeline, FeatureUnion, Parallel, make_union\n",
    "from sklearn.model_selection import train_test_split\n",
    "from sklearn.metrics import confusion_matrix, accuracy_score, classification_report\n",
    "from sklearn.model_selection import KFold, GridSearchCV, StratifiedKFold\n",
    "from sklearn.ensemble import RandomForestClassifier\n",
    "\n",
    "from sklearn.tree import DecisionTreeClassifier\n",
    "from sklearn.svm import SVC"
   ]
  },
  {
   "cell_type": "markdown",
   "metadata": {
    "id": "msLqyylh9Eop"
   },
   "source": []
  },
  {
   "cell_type": "code",
   "execution_count": 71,
   "metadata": {},
   "outputs": [],
   "source": [
    "#Se intentó agregando features polinomiales de mayor grado, pero empeoró el resultado. \n",
    "#data.to_csv('data_eda.csv')\n",
    "# data['age_2'] = (data['age'])**2\n",
    "# data['age_bal'] = (data['age'])*(data['balance'])\n",
    "# data['age_pre'] = (data['age'])*(data['previous'])\n",
    "# data['bal_pre'] = (data['balance'])*(data['previous'])\n",
    "# data['bal_2'] = (data['balance'])**2\n",
    "# data['previous_2'] = (data['previous'])**2"
   ]
  },
  {
   "cell_type": "code",
   "execution_count": 72,
   "metadata": {
    "scrolled": true
   },
   "outputs": [
    {
     "data": {
      "text/html": [
       "<div>\n",
       "<style scoped>\n",
       "    .dataframe tbody tr th:only-of-type {\n",
       "        vertical-align: middle;\n",
       "    }\n",
       "\n",
       "    .dataframe tbody tr th {\n",
       "        vertical-align: top;\n",
       "    }\n",
       "\n",
       "    .dataframe thead th {\n",
       "        text-align: right;\n",
       "    }\n",
       "</style>\n",
       "<table border=\"1\" class=\"dataframe\">\n",
       "  <thead>\n",
       "    <tr style=\"text-align: right;\">\n",
       "      <th></th>\n",
       "      <th>age</th>\n",
       "      <th>job</th>\n",
       "      <th>marital</th>\n",
       "      <th>education</th>\n",
       "      <th>default</th>\n",
       "      <th>balance</th>\n",
       "      <th>housing</th>\n",
       "      <th>loan</th>\n",
       "      <th>contact</th>\n",
       "      <th>day</th>\n",
       "      <th>...</th>\n",
       "      <th>duration</th>\n",
       "      <th>campaign</th>\n",
       "      <th>pdays</th>\n",
       "      <th>previous</th>\n",
       "      <th>poutcome</th>\n",
       "      <th>y</th>\n",
       "      <th>age_cat</th>\n",
       "      <th>semana</th>\n",
       "      <th>quarter</th>\n",
       "      <th>range_pdays</th>\n",
       "    </tr>\n",
       "  </thead>\n",
       "  <tbody>\n",
       "    <tr>\n",
       "      <th>0</th>\n",
       "      <td>58</td>\n",
       "      <td>management</td>\n",
       "      <td>married</td>\n",
       "      <td>tertiary</td>\n",
       "      <td>no</td>\n",
       "      <td>2143</td>\n",
       "      <td>yes</td>\n",
       "      <td>no</td>\n",
       "      <td>unknown</td>\n",
       "      <td>5</td>\n",
       "      <td>...</td>\n",
       "      <td>261</td>\n",
       "      <td>1</td>\n",
       "      <td>-1</td>\n",
       "      <td>0</td>\n",
       "      <td>sin contacto</td>\n",
       "      <td>0</td>\n",
       "      <td>40-60</td>\n",
       "      <td>principio</td>\n",
       "      <td>Q2</td>\n",
       "      <td>OTRO</td>\n",
       "    </tr>\n",
       "    <tr>\n",
       "      <th>1</th>\n",
       "      <td>44</td>\n",
       "      <td>technician</td>\n",
       "      <td>single</td>\n",
       "      <td>secondary</td>\n",
       "      <td>no</td>\n",
       "      <td>29</td>\n",
       "      <td>yes</td>\n",
       "      <td>no</td>\n",
       "      <td>unknown</td>\n",
       "      <td>5</td>\n",
       "      <td>...</td>\n",
       "      <td>151</td>\n",
       "      <td>1</td>\n",
       "      <td>-1</td>\n",
       "      <td>0</td>\n",
       "      <td>sin contacto</td>\n",
       "      <td>0</td>\n",
       "      <td>40-60</td>\n",
       "      <td>principio</td>\n",
       "      <td>Q2</td>\n",
       "      <td>OTRO</td>\n",
       "    </tr>\n",
       "    <tr>\n",
       "      <th>2</th>\n",
       "      <td>33</td>\n",
       "      <td>entrepreneur</td>\n",
       "      <td>married</td>\n",
       "      <td>secondary</td>\n",
       "      <td>no</td>\n",
       "      <td>2</td>\n",
       "      <td>yes</td>\n",
       "      <td>yes</td>\n",
       "      <td>unknown</td>\n",
       "      <td>5</td>\n",
       "      <td>...</td>\n",
       "      <td>76</td>\n",
       "      <td>1</td>\n",
       "      <td>-1</td>\n",
       "      <td>0</td>\n",
       "      <td>sin contacto</td>\n",
       "      <td>0</td>\n",
       "      <td>&lt;40</td>\n",
       "      <td>principio</td>\n",
       "      <td>Q2</td>\n",
       "      <td>OTRO</td>\n",
       "    </tr>\n",
       "    <tr>\n",
       "      <th>3</th>\n",
       "      <td>47</td>\n",
       "      <td>blue</td>\n",
       "      <td>married</td>\n",
       "      <td>secondary</td>\n",
       "      <td>no</td>\n",
       "      <td>1506</td>\n",
       "      <td>yes</td>\n",
       "      <td>no</td>\n",
       "      <td>unknown</td>\n",
       "      <td>5</td>\n",
       "      <td>...</td>\n",
       "      <td>92</td>\n",
       "      <td>1</td>\n",
       "      <td>-1</td>\n",
       "      <td>0</td>\n",
       "      <td>sin contacto</td>\n",
       "      <td>0</td>\n",
       "      <td>40-60</td>\n",
       "      <td>principio</td>\n",
       "      <td>Q2</td>\n",
       "      <td>OTRO</td>\n",
       "    </tr>\n",
       "    <tr>\n",
       "      <th>4</th>\n",
       "      <td>33</td>\n",
       "      <td>blue</td>\n",
       "      <td>single</td>\n",
       "      <td>secondary</td>\n",
       "      <td>no</td>\n",
       "      <td>1</td>\n",
       "      <td>no</td>\n",
       "      <td>no</td>\n",
       "      <td>unknown</td>\n",
       "      <td>5</td>\n",
       "      <td>...</td>\n",
       "      <td>198</td>\n",
       "      <td>1</td>\n",
       "      <td>-1</td>\n",
       "      <td>0</td>\n",
       "      <td>sin contacto</td>\n",
       "      <td>0</td>\n",
       "      <td>&lt;40</td>\n",
       "      <td>principio</td>\n",
       "      <td>Q2</td>\n",
       "      <td>OTRO</td>\n",
       "    </tr>\n",
       "  </tbody>\n",
       "</table>\n",
       "<p>5 rows × 21 columns</p>\n",
       "</div>"
      ],
      "text/plain": [
       "   age           job  marital  education default  balance housing loan  \\\n",
       "0   58    management  married   tertiary      no     2143     yes   no   \n",
       "1   44    technician   single  secondary      no       29     yes   no   \n",
       "2   33  entrepreneur  married  secondary      no        2     yes  yes   \n",
       "3   47          blue  married  secondary      no     1506     yes   no   \n",
       "4   33          blue   single  secondary      no        1      no   no   \n",
       "\n",
       "   contact day  ... duration  campaign  pdays  previous      poutcome  y  \\\n",
       "0  unknown   5  ...      261         1     -1         0  sin contacto  0   \n",
       "1  unknown   5  ...      151         1     -1         0  sin contacto  0   \n",
       "2  unknown   5  ...       76         1     -1         0  sin contacto  0   \n",
       "3  unknown   5  ...       92         1     -1         0  sin contacto  0   \n",
       "4  unknown   5  ...      198         1     -1         0  sin contacto  0   \n",
       "\n",
       "   age_cat     semana quarter range_pdays  \n",
       "0    40-60  principio      Q2        OTRO  \n",
       "1    40-60  principio      Q2        OTRO  \n",
       "2      <40  principio      Q2        OTRO  \n",
       "3    40-60  principio      Q2        OTRO  \n",
       "4      <40  principio      Q2        OTRO  \n",
       "\n",
       "[5 rows x 21 columns]"
      ]
     },
     "execution_count": 72,
     "metadata": {},
     "output_type": "execute_result"
    }
   ],
   "source": [
    "data.head()"
   ]
  },
  {
   "cell_type": "code",
   "execution_count": 89,
   "metadata": {
    "id": "xMz5z0kg-f6d"
   },
   "outputs": [],
   "source": [
    "# Modeloado apuntando solo a clientes sin credito hipotecario.\n",
    "mask = data.housing == 'no'\n",
    "\n",
    "X = data[mask].drop('y', axis = 1)\n",
    "y = data[mask].y\n",
    "\n"
   ]
  },
  {
   "cell_type": "code",
   "execution_count": 101,
   "metadata": {
    "id": "ZPeGVMLf_fop"
   },
   "outputs": [],
   "source": [
    "X_train, X_test, y_train, y_test = train_test_split(X, y, test_size = 0.33, random_state = 1000)"
   ]
  },
  {
   "cell_type": "markdown",
   "metadata": {
    "id": "BZEEd4OgAOlF"
   },
   "source": []
  },
  {
   "cell_type": "code",
   "execution_count": 102,
   "metadata": {
    "id": "6k54D25lAY0r"
   },
   "outputs": [],
   "source": [
    "from sklearn.base import BaseEstimator, TransformerMixin\n",
    "\n",
    "class ColumnSelector(BaseEstimator, TransformerMixin):\n",
    "    def __init__(self, columns):\n",
    "        self.columns = columns\n",
    "    \n",
    "    def transform(self, X, *_):\n",
    "        if isinstance(X, pd.DataFrame):\n",
    "            return pd.DataFrame(X[self.columns])\n",
    "        else:\n",
    "            raise TypeError(\"Este Transformador solo funciona en DF de Pandas\")\n",
    "    \n",
    "    def fit(self, X, *_):\n",
    "        return self"
   ]
  },
  {
   "cell_type": "code",
   "execution_count": 206,
   "metadata": {
    "id": "0YNaMauSLZCv"
   },
   "outputs": [],
   "source": [
    "numeric_features = Pipeline([('column_selector', ColumnSelector(['balance','previous','campaign'])),\n",
    "                             ('scaler', StandardScaler())])"
   ]
  },
  {
   "cell_type": "code",
   "execution_count": 207,
   "metadata": {
    "id": "qkSaHqHSI9sk"
   },
   "outputs": [],
   "source": [
    "class GetDummiesTransformer(BaseEstimator, TransformerMixin):\n",
    "    def __init__(self, columns):\n",
    "        self.columns = columns\n",
    "    \n",
    "    def transform(self, X, *_):\n",
    "        if isinstance(X, pd.DataFrame):\n",
    "            return pd.get_dummies(X[self.columns], columns = self.columns, drop_first = True)\n",
    "        else:\n",
    "            raise TypeError(\"Este Transformador solo funciona en DF de Pandas\")\n",
    "    \n",
    "    def fit(self, X, *_):\n",
    "        return self"
   ]
  },
  {
   "cell_type": "code",
   "execution_count": 208,
   "metadata": {
    "id": "1gv-3ti6NLN4"
   },
   "outputs": [],
   "source": [
    "# categorical_features = Pipeline([('dummies', GetDummiesTransformer(['job', 'age_cat', 'quarter', 'semana', 'marital', \n",
    "#                                                                     'education', 'default', 'housing', 'loan', 'contact', \n",
    "#                                                                     'poutcome', 'month']))])\n",
    "\n",
    "categorical_features = Pipeline([('dummies', GetDummiesTransformer(['job', 'age_cat', 'day', 'quarter', 'marital', 'range_pdays',\n",
    "                                                                    'education', 'default', 'housing', 'loan', 'contact', \n",
    "                                                                    'poutcome', 'month']))])\n",
    "\n",
    "#categorical_features = Pipeline([('dummies', GetDummiesTransformer(['quarter']))])"
   ]
  },
  {
   "cell_type": "code",
   "execution_count": 209,
   "metadata": {
    "id": "tFuwvP6484x-"
   },
   "outputs": [],
   "source": [
    "procesador = Pipeline([('preprocessing', make_union(numeric_features, categorical_features)),\n",
    "                      ('classifier', 'passthrough')])\n",
    "\n",
    "# procesador = Pipeline([('preprocessing', categorical_features),\n",
    "#                        ('classifier', 'passthrough')])"
   ]
  },
  {
   "cell_type": "code",
   "execution_count": 210,
   "metadata": {
    "colab": {
     "base_uri": "https://localhost:8080/"
    },
    "id": "ZZTSxJtx9zFQ",
    "outputId": "fef1e753-ee88-4b6a-a058-68f6a78c351b",
    "scrolled": true
   },
   "outputs": [
    {
     "data": {
      "text/plain": [
       "GridSearchCV(cv=StratifiedKFold(n_splits=5, random_state=332, shuffle=True),\n",
       "             estimator=Pipeline(steps=[('preprocessing',\n",
       "                                        FeatureUnion(transformer_list=[('pipeline-1',\n",
       "                                                                        Pipeline(steps=[('column_selector',\n",
       "                                                                                         ColumnSelector(columns=['balance',\n",
       "                                                                                                                 'previous',\n",
       "                                                                                                                 'campaign'])),\n",
       "                                                                                        ('scaler',\n",
       "                                                                                         StandardScaler())])),\n",
       "                                                                       ('pipeline-2',\n",
       "                                                                        Pipeline(steps=[('dummies',\n",
       "                                                                                         GetDummiesTransformer(...\n",
       "        4.08755102,  4.29142857,  4.49530612,  4.69918367,  4.90306122,\n",
       "        5.10693878,  5.31081633,  5.51469388,  5.71857143,  5.92244898,\n",
       "        6.12632653,  6.33020408,  6.53408163,  6.73795918,  6.94183673,\n",
       "        7.14571429,  7.34959184,  7.55346939,  7.75734694,  7.96122449,\n",
       "        8.16510204,  8.36897959,  8.57285714,  8.77673469,  8.98061224,\n",
       "        9.1844898 ,  9.38836735,  9.5922449 ,  9.79612245, 10.        ])},\n",
       "                         {'classifier': (RandomForestClassifier(),)}],\n",
       "             scoring='recall')"
      ]
     },
     "execution_count": 210,
     "metadata": {},
     "output_type": "execute_result"
    }
   ],
   "source": [
    "cv = StratifiedKFold(n_splits= 5, shuffle= True, random_state= 332)\n",
    "\n",
    "parametros = [\n",
    "              {\n",
    "                  'classifier': (GaussianNB(), )\n",
    "              },\n",
    "              {\n",
    "                  'classifier': (LogisticRegression(),),\n",
    "                  'classifier__C': np.linspace(0.01, 10, 50)\n",
    "              },\n",
    "#              }\n",
    "#               {\n",
    "#                   'classifier': (KNeighborsClassifier(),),\n",
    "#                   'classifier__n_neighbors': [i for i in range(5, 20)],\n",
    "#                   'classifier__weights': ['uniform', 'distance']\n",
    "#                 },\n",
    "              {\n",
    "                   'classifier': (RandomForestClassifier(),)\n",
    "              }\n",
    "              ]\n",
    "\n",
    "grid_search = GridSearchCV(procesador, parametros, cv=cv, scoring = 'recall')\n",
    "\n",
    "grid_search.fit(X_train, y_train)"
   ]
  },
  {
   "cell_type": "code",
   "execution_count": 215,
   "metadata": {
    "colab": {
     "base_uri": "https://localhost:8080/"
    },
    "id": "rabL7VlvkJsq",
    "outputId": "2a929921-9e13-4e70-ba0a-bafc6ffa75b3",
    "scrolled": false
   },
   "outputs": [
    {
     "name": "stdout",
     "output_type": "stream",
     "text": [
      "Pipeline(steps=[('preprocessing',\n",
      "                 FeatureUnion(transformer_list=[('pipeline-1',\n",
      "                                                 Pipeline(steps=[('column_selector',\n",
      "                                                                  ColumnSelector(columns=['balance',\n",
      "                                                                                          'previous',\n",
      "                                                                                          'campaign'])),\n",
      "                                                                 ('scaler',\n",
      "                                                                  StandardScaler())])),\n",
      "                                                ('pipeline-2',\n",
      "                                                 Pipeline(steps=[('dummies',\n",
      "                                                                  GetDummiesTransformer(columns=['job',\n",
      "                                                                                                 'age_cat',\n",
      "                                                                                                 'day',\n",
      "                                                                                                 'quarter',\n",
      "                                                                                                 'marital',\n",
      "                                                                                                 'range_pdays',\n",
      "                                                                                                 'education',\n",
      "                                                                                                 'default',\n",
      "                                                                                                 'housing',\n",
      "                                                                                                 'loan',\n",
      "                                                                                                 'contact',\n",
      "                                                                                                 'poutcome',\n",
      "                                                                                                 'month']))]))])),\n",
      "                ('classifier', GaussianNB())])\n"
     ]
    },
    {
     "data": {
      "text/plain": [
       "0.5789220489977728"
      ]
     },
     "execution_count": 215,
     "metadata": {},
     "output_type": "execute_result"
    }
   ],
   "source": [
    "print(grid_search.best_estimator_)\n",
    "grid_search.best_score_"
   ]
  },
  {
   "cell_type": "code",
   "execution_count": 216,
   "metadata": {
    "colab": {
     "base_uri": "https://localhost:8080/",
     "height": 171
    },
    "id": "AA5k92nRkLBc",
    "outputId": "b1cb53e0-520e-4c4a-9cf2-2d20628cc815"
   },
   "outputs": [
    {
     "data": {
      "text/html": [
       "<div>\n",
       "<style scoped>\n",
       "    .dataframe tbody tr th:only-of-type {\n",
       "        vertical-align: middle;\n",
       "    }\n",
       "\n",
       "    .dataframe tbody tr th {\n",
       "        vertical-align: top;\n",
       "    }\n",
       "\n",
       "    .dataframe thead th {\n",
       "        text-align: right;\n",
       "    }\n",
       "</style>\n",
       "<table border=\"1\" class=\"dataframe\">\n",
       "  <thead>\n",
       "    <tr style=\"text-align: right;\">\n",
       "      <th></th>\n",
       "      <th>0</th>\n",
       "      <th>1</th>\n",
       "      <th>accuracy</th>\n",
       "      <th>macro avg</th>\n",
       "      <th>weighted avg</th>\n",
       "    </tr>\n",
       "  </thead>\n",
       "  <tbody>\n",
       "    <tr>\n",
       "      <th>precision</th>\n",
       "      <td>0.911057</td>\n",
       "      <td>0.393885</td>\n",
       "      <td>0.78065</td>\n",
       "      <td>0.652471</td>\n",
       "      <td>0.825292</td>\n",
       "    </tr>\n",
       "    <tr>\n",
       "      <th>recall</th>\n",
       "      <td>0.816781</td>\n",
       "      <td>0.598906</td>\n",
       "      <td>0.78065</td>\n",
       "      <td>0.707844</td>\n",
       "      <td>0.780650</td>\n",
       "    </tr>\n",
       "    <tr>\n",
       "      <th>f1-score</th>\n",
       "      <td>0.861347</td>\n",
       "      <td>0.475226</td>\n",
       "      <td>0.78065</td>\n",
       "      <td>0.668287</td>\n",
       "      <td>0.797315</td>\n",
       "    </tr>\n",
       "    <tr>\n",
       "      <th>support</th>\n",
       "      <td>5518.000000</td>\n",
       "      <td>1097.000000</td>\n",
       "      <td>0.78065</td>\n",
       "      <td>6615.000000</td>\n",
       "      <td>6615.000000</td>\n",
       "    </tr>\n",
       "  </tbody>\n",
       "</table>\n",
       "</div>"
      ],
      "text/plain": [
       "                     0            1  accuracy    macro avg  weighted avg\n",
       "precision     0.911057     0.393885   0.78065     0.652471      0.825292\n",
       "recall        0.816781     0.598906   0.78065     0.707844      0.780650\n",
       "f1-score      0.861347     0.475226   0.78065     0.668287      0.797315\n",
       "support    5518.000000  1097.000000   0.78065  6615.000000   6615.000000"
      ]
     },
     "execution_count": 216,
     "metadata": {},
     "output_type": "execute_result"
    }
   ],
   "source": [
    "pd.DataFrame(classification_report(y_test, grid_search.predict(X_test), output_dict= True))"
   ]
  },
  {
   "cell_type": "code",
   "execution_count": 217,
   "metadata": {
    "colab": {
     "base_uri": "https://localhost:8080/",
     "height": 517
    },
    "id": "T4_t4d4Jkjvp",
    "outputId": "bb3c9d1a-1a02-425f-960b-ffb7eb9ff918",
    "scrolled": false
   },
   "outputs": [
    {
     "data": {
      "text/plain": [
       "<AxesSubplot:>"
      ]
     },
     "execution_count": 217,
     "metadata": {},
     "output_type": "execute_result"
    },
    {
     "data": {
      "image/png": "[encoded data removed]",
      "text/plain": [
       "<Figure size 842.4x595.44 with 2 Axes>"
      ]
     },
     "metadata": {},
     "output_type": "display_data"
    }
   ],
   "source": [
    "sns.heatmap(confusion_matrix(y_test, grid_search.predict(X_test)), annot= True, fmt ='.0f')"
   ]
  },
  {
   "cell_type": "code",
   "execution_count": 218,
   "metadata": {
    "id": "_uS4sZHlk9Q8"
   },
   "outputs": [],
   "source": [
    "from sklearn.metrics import roc_auc_score, roc_curve"
   ]
  },
  {
   "cell_type": "code",
   "execution_count": 219,
   "metadata": {
    "colab": {
     "base_uri": "https://localhost:8080/"
    },
    "id": "Ky4SdxPks9Vx",
    "outputId": "6a32cc8c-62ee-44b8-c110-0dae17f8027f"
   },
   "outputs": [
    {
     "data": {
      "text/plain": [
       "0.708"
      ]
     },
     "execution_count": 219,
     "metadata": {},
     "output_type": "execute_result"
    }
   ],
   "source": [
    "round(roc_auc_score(y_test, grid_search.predict(X_test)),3)"
   ]
  },
  {
   "cell_type": "code",
   "execution_count": 113,
   "metadata": {
    "id": "iKm_CPKktHVa"
   },
   "outputs": [
    {
     "data": {
      "text/plain": [
       "(array([4605.,   85.,   82.,   49.,   40.,   28.,   22.,   20.,   30.,\n",
       "          25.,   15.,   12.,   30.,   23.,   22.,   23.,   22.,   25.,\n",
       "          42., 1415.]),\n",
       " array([1.00373751e-43, 5.00000000e-02, 1.00000000e-01, 1.50000000e-01,\n",
       "        2.00000000e-01, 2.50000000e-01, 3.00000000e-01, 3.50000000e-01,\n",
       "        4.00000000e-01, 4.50000000e-01, 5.00000000e-01, 5.50000000e-01,\n",
       "        6.00000000e-01, 6.50000000e-01, 7.00000000e-01, 7.50000000e-01,\n",
       "        8.00000000e-01, 8.50000000e-01, 9.00000000e-01, 9.50000000e-01,\n",
       "        1.00000000e+00]),\n",
       " <BarContainer object of 20 artists>)"
      ]
     },
     "execution_count": 113,
     "metadata": {},
     "output_type": "execute_result"
    },
    {
     "data": {
      "image/png": "[encoded data removed]",
      "text/plain": [
       "<Figure size 842.4x595.44 with 1 Axes>"
      ]
     },
     "metadata": {},
     "output_type": "display_data"
    }
   ],
   "source": [
    "dist_pred = pd.DataFrame(grid_search.predict_proba(X_test))\n",
    "\n",
    "plt.hist(dist_pred[1],bins = 20)"
   ]
  },
  {
   "cell_type": "code",
   "execution_count": 114,
   "metadata": {
    "scrolled": true
   },
   "outputs": [
    {
     "data": {
      "text/plain": [
       "[<matplotlib.lines.Line2D at 0x1d5a7829248>]"
      ]
     },
     "execution_count": 114,
     "metadata": {},
     "output_type": "execute_result"
    },
    {
     "data": {
      "image/png": "[encoded data removed]",
      "text/plain": [
       "<Figure size 842.4x595.44 with 1 Axes>"
      ]
     },
     "metadata": {},
     "output_type": "display_data"
    }
   ],
   "source": [
    "fpr_log,tpr_log,thr_log = roc_curve(y_test, dist_pred[1])\n",
    "df_roc = pd.DataFrame(dict(fpr=fpr_log, tpr=tpr_log, thr = thr_log))\n",
    "\n",
    "#Curva ROC \n",
    "plt.axis([0, 1.01, 0, 1.01])\n",
    "plt.xlabel('FPR / 1 - Specificty')\n",
    "plt.ylabel('TPR / Sensitivity')\n",
    "plt.title('ROC Curve')\n",
    "plt.plot(df_roc['fpr'],df_roc['tpr'])\n",
    "plt.plot(np.arange(0,1, step =0.01), np.arange(0,1, step =0.01))\n",
    "#plt.show()"
   ]
  },
  {
   "cell_type": "code",
   "execution_count": 115,
   "metadata": {},
   "outputs": [
    {
     "data": {
      "text/html": [
       "<div>\n",
       "<style scoped>\n",
       "    .dataframe tbody tr th:only-of-type {\n",
       "        vertical-align: middle;\n",
       "    }\n",
       "\n",
       "    .dataframe tbody tr th {\n",
       "        vertical-align: top;\n",
       "    }\n",
       "\n",
       "    .dataframe thead th {\n",
       "        text-align: right;\n",
       "    }\n",
       "</style>\n",
       "<table border=\"1\" class=\"dataframe\">\n",
       "  <thead>\n",
       "    <tr style=\"text-align: right;\">\n",
       "      <th></th>\n",
       "      <th>mean_fit_time</th>\n",
       "      <th>std_fit_time</th>\n",
       "      <th>mean_score_time</th>\n",
       "      <th>std_score_time</th>\n",
       "      <th>param_classifier</th>\n",
       "      <th>param_classifier__C</th>\n",
       "      <th>params</th>\n",
       "      <th>split0_test_score</th>\n",
       "      <th>split1_test_score</th>\n",
       "      <th>split2_test_score</th>\n",
       "      <th>split3_test_score</th>\n",
       "      <th>split4_test_score</th>\n",
       "      <th>mean_test_score</th>\n",
       "      <th>std_test_score</th>\n",
       "      <th>rank_test_score</th>\n",
       "    </tr>\n",
       "  </thead>\n",
       "  <tbody>\n",
       "    <tr>\n",
       "      <th>0</th>\n",
       "      <td>0.050275</td>\n",
       "      <td>0.011922</td>\n",
       "      <td>0.029200</td>\n",
       "      <td>0.013178</td>\n",
       "      <td>GaussianNB()</td>\n",
       "      <td>NaN</td>\n",
       "      <td>{'classifier': GaussianNB()}</td>\n",
       "      <td>0.570156</td>\n",
       "      <td>0.588889</td>\n",
       "      <td>0.571111</td>\n",
       "      <td>0.564444</td>\n",
       "      <td>0.560000</td>\n",
       "      <td>0.570920</td>\n",
       "      <td>0.009846</td>\n",
       "      <td>1</td>\n",
       "    </tr>\n",
       "    <tr>\n",
       "      <th>1</th>\n",
       "      <td>0.096958</td>\n",
       "      <td>0.025018</td>\n",
       "      <td>0.024656</td>\n",
       "      <td>0.013784</td>\n",
       "      <td>LogisticRegression()</td>\n",
       "      <td>0.01</td>\n",
       "      <td>{'classifier': LogisticRegression(), 'classifi...</td>\n",
       "      <td>0.129176</td>\n",
       "      <td>0.153333</td>\n",
       "      <td>0.151111</td>\n",
       "      <td>0.126667</td>\n",
       "      <td>0.133333</td>\n",
       "      <td>0.138724</td>\n",
       "      <td>0.011247</td>\n",
       "      <td>52</td>\n",
       "    </tr>\n",
       "    <tr>\n",
       "      <th>2</th>\n",
       "      <td>0.144297</td>\n",
       "      <td>0.023850</td>\n",
       "      <td>0.024345</td>\n",
       "      <td>0.003987</td>\n",
       "      <td>LogisticRegression()</td>\n",
       "      <td>0.213878</td>\n",
       "      <td>{'classifier': LogisticRegression(), 'classifi...</td>\n",
       "      <td>0.229399</td>\n",
       "      <td>0.262222</td>\n",
       "      <td>0.235556</td>\n",
       "      <td>0.226667</td>\n",
       "      <td>0.213333</td>\n",
       "      <td>0.233435</td>\n",
       "      <td>0.016121</td>\n",
       "      <td>51</td>\n",
       "    </tr>\n",
       "    <tr>\n",
       "      <th>3</th>\n",
       "      <td>0.179598</td>\n",
       "      <td>0.021236</td>\n",
       "      <td>0.026264</td>\n",
       "      <td>0.008274</td>\n",
       "      <td>LogisticRegression()</td>\n",
       "      <td>0.417755</td>\n",
       "      <td>{'classifier': LogisticRegression(), 'classifi...</td>\n",
       "      <td>0.231626</td>\n",
       "      <td>0.271111</td>\n",
       "      <td>0.244444</td>\n",
       "      <td>0.233333</td>\n",
       "      <td>0.217778</td>\n",
       "      <td>0.239659</td>\n",
       "      <td>0.017863</td>\n",
       "      <td>50</td>\n",
       "    </tr>\n",
       "    <tr>\n",
       "      <th>4</th>\n",
       "      <td>0.181167</td>\n",
       "      <td>0.033800</td>\n",
       "      <td>0.023668</td>\n",
       "      <td>0.004766</td>\n",
       "      <td>LogisticRegression()</td>\n",
       "      <td>0.621633</td>\n",
       "      <td>{'classifier': LogisticRegression(), 'classifi...</td>\n",
       "      <td>0.238307</td>\n",
       "      <td>0.271111</td>\n",
       "      <td>0.246667</td>\n",
       "      <td>0.233333</td>\n",
       "      <td>0.217778</td>\n",
       "      <td>0.241439</td>\n",
       "      <td>0.017568</td>\n",
       "      <td>49</td>\n",
       "    </tr>\n",
       "    <tr>\n",
       "      <th>5</th>\n",
       "      <td>0.172358</td>\n",
       "      <td>0.014408</td>\n",
       "      <td>0.024091</td>\n",
       "      <td>0.004974</td>\n",
       "      <td>LogisticRegression()</td>\n",
       "      <td>0.82551</td>\n",
       "      <td>{'classifier': LogisticRegression(), 'classifi...</td>\n",
       "      <td>0.240535</td>\n",
       "      <td>0.271111</td>\n",
       "      <td>0.248889</td>\n",
       "      <td>0.233333</td>\n",
       "      <td>0.220000</td>\n",
       "      <td>0.242774</td>\n",
       "      <td>0.017048</td>\n",
       "      <td>47</td>\n",
       "    </tr>\n",
       "    <tr>\n",
       "      <th>6</th>\n",
       "      <td>0.150648</td>\n",
       "      <td>0.019619</td>\n",
       "      <td>0.024579</td>\n",
       "      <td>0.003328</td>\n",
       "      <td>LogisticRegression()</td>\n",
       "      <td>1.02939</td>\n",
       "      <td>{'classifier': LogisticRegression(), 'classifi...</td>\n",
       "      <td>0.240535</td>\n",
       "      <td>0.271111</td>\n",
       "      <td>0.248889</td>\n",
       "      <td>0.233333</td>\n",
       "      <td>0.220000</td>\n",
       "      <td>0.242774</td>\n",
       "      <td>0.017048</td>\n",
       "      <td>47</td>\n",
       "    </tr>\n",
       "    <tr>\n",
       "      <th>7</th>\n",
       "      <td>0.154484</td>\n",
       "      <td>0.017177</td>\n",
       "      <td>0.016506</td>\n",
       "      <td>0.004473</td>\n",
       "      <td>LogisticRegression()</td>\n",
       "      <td>1.23327</td>\n",
       "      <td>{'classifier': LogisticRegression(), 'classifi...</td>\n",
       "      <td>0.242762</td>\n",
       "      <td>0.271111</td>\n",
       "      <td>0.248889</td>\n",
       "      <td>0.233333</td>\n",
       "      <td>0.220000</td>\n",
       "      <td>0.243219</td>\n",
       "      <td>0.017013</td>\n",
       "      <td>44</td>\n",
       "    </tr>\n",
       "    <tr>\n",
       "      <th>8</th>\n",
       "      <td>0.200973</td>\n",
       "      <td>0.045874</td>\n",
       "      <td>0.026279</td>\n",
       "      <td>0.004611</td>\n",
       "      <td>LogisticRegression()</td>\n",
       "      <td>1.43714</td>\n",
       "      <td>{'classifier': LogisticRegression(), 'classifi...</td>\n",
       "      <td>0.242762</td>\n",
       "      <td>0.271111</td>\n",
       "      <td>0.248889</td>\n",
       "      <td>0.233333</td>\n",
       "      <td>0.220000</td>\n",
       "      <td>0.243219</td>\n",
       "      <td>0.017013</td>\n",
       "      <td>44</td>\n",
       "    </tr>\n",
       "    <tr>\n",
       "      <th>9</th>\n",
       "      <td>0.169949</td>\n",
       "      <td>0.013356</td>\n",
       "      <td>0.018043</td>\n",
       "      <td>0.005066</td>\n",
       "      <td>LogisticRegression()</td>\n",
       "      <td>1.64102</td>\n",
       "      <td>{'classifier': LogisticRegression(), 'classifi...</td>\n",
       "      <td>0.242762</td>\n",
       "      <td>0.271111</td>\n",
       "      <td>0.248889</td>\n",
       "      <td>0.233333</td>\n",
       "      <td>0.220000</td>\n",
       "      <td>0.243219</td>\n",
       "      <td>0.017013</td>\n",
       "      <td>44</td>\n",
       "    </tr>\n",
       "    <tr>\n",
       "      <th>10</th>\n",
       "      <td>0.148445</td>\n",
       "      <td>0.016724</td>\n",
       "      <td>0.021245</td>\n",
       "      <td>0.006957</td>\n",
       "      <td>LogisticRegression()</td>\n",
       "      <td>1.8449</td>\n",
       "      <td>{'classifier': LogisticRegression(), 'classifi...</td>\n",
       "      <td>0.244989</td>\n",
       "      <td>0.271111</td>\n",
       "      <td>0.248889</td>\n",
       "      <td>0.235556</td>\n",
       "      <td>0.222222</td>\n",
       "      <td>0.244553</td>\n",
       "      <td>0.016149</td>\n",
       "      <td>43</td>\n",
       "    </tr>\n",
       "    <tr>\n",
       "      <th>11</th>\n",
       "      <td>0.159569</td>\n",
       "      <td>0.022608</td>\n",
       "      <td>0.018873</td>\n",
       "      <td>0.004015</td>\n",
       "      <td>LogisticRegression()</td>\n",
       "      <td>2.04878</td>\n",
       "      <td>{'classifier': LogisticRegression(), 'classifi...</td>\n",
       "      <td>0.244989</td>\n",
       "      <td>0.271111</td>\n",
       "      <td>0.248889</td>\n",
       "      <td>0.235556</td>\n",
       "      <td>0.224444</td>\n",
       "      <td>0.244998</td>\n",
       "      <td>0.015548</td>\n",
       "      <td>38</td>\n",
       "    </tr>\n",
       "    <tr>\n",
       "      <th>12</th>\n",
       "      <td>0.170871</td>\n",
       "      <td>0.036123</td>\n",
       "      <td>0.020743</td>\n",
       "      <td>0.001323</td>\n",
       "      <td>LogisticRegression()</td>\n",
       "      <td>2.25265</td>\n",
       "      <td>{'classifier': LogisticRegression(), 'classifi...</td>\n",
       "      <td>0.244989</td>\n",
       "      <td>0.271111</td>\n",
       "      <td>0.248889</td>\n",
       "      <td>0.235556</td>\n",
       "      <td>0.224444</td>\n",
       "      <td>0.244998</td>\n",
       "      <td>0.015548</td>\n",
       "      <td>38</td>\n",
       "    </tr>\n",
       "    <tr>\n",
       "      <th>13</th>\n",
       "      <td>0.245461</td>\n",
       "      <td>0.121452</td>\n",
       "      <td>0.026508</td>\n",
       "      <td>0.019575</td>\n",
       "      <td>LogisticRegression()</td>\n",
       "      <td>2.45653</td>\n",
       "      <td>{'classifier': LogisticRegression(), 'classifi...</td>\n",
       "      <td>0.244989</td>\n",
       "      <td>0.271111</td>\n",
       "      <td>0.248889</td>\n",
       "      <td>0.235556</td>\n",
       "      <td>0.224444</td>\n",
       "      <td>0.244998</td>\n",
       "      <td>0.015548</td>\n",
       "      <td>38</td>\n",
       "    </tr>\n",
       "    <tr>\n",
       "      <th>14</th>\n",
       "      <td>0.172429</td>\n",
       "      <td>0.018148</td>\n",
       "      <td>0.026796</td>\n",
       "      <td>0.004959</td>\n",
       "      <td>LogisticRegression()</td>\n",
       "      <td>2.66041</td>\n",
       "      <td>{'classifier': LogisticRegression(), 'classifi...</td>\n",
       "      <td>0.244989</td>\n",
       "      <td>0.271111</td>\n",
       "      <td>0.248889</td>\n",
       "      <td>0.235556</td>\n",
       "      <td>0.224444</td>\n",
       "      <td>0.244998</td>\n",
       "      <td>0.015548</td>\n",
       "      <td>38</td>\n",
       "    </tr>\n",
       "    <tr>\n",
       "      <th>15</th>\n",
       "      <td>0.173356</td>\n",
       "      <td>0.019194</td>\n",
       "      <td>0.023308</td>\n",
       "      <td>0.004553</td>\n",
       "      <td>LogisticRegression()</td>\n",
       "      <td>2.86429</td>\n",
       "      <td>{'classifier': LogisticRegression(), 'classifi...</td>\n",
       "      <td>0.244989</td>\n",
       "      <td>0.271111</td>\n",
       "      <td>0.248889</td>\n",
       "      <td>0.235556</td>\n",
       "      <td>0.224444</td>\n",
       "      <td>0.244998</td>\n",
       "      <td>0.015548</td>\n",
       "      <td>38</td>\n",
       "    </tr>\n",
       "    <tr>\n",
       "      <th>16</th>\n",
       "      <td>0.155950</td>\n",
       "      <td>0.027863</td>\n",
       "      <td>0.018226</td>\n",
       "      <td>0.003186</td>\n",
       "      <td>LogisticRegression()</td>\n",
       "      <td>3.06816</td>\n",
       "      <td>{'classifier': LogisticRegression(), 'classifi...</td>\n",
       "      <td>0.244989</td>\n",
       "      <td>0.271111</td>\n",
       "      <td>0.248889</td>\n",
       "      <td>0.237778</td>\n",
       "      <td>0.224444</td>\n",
       "      <td>0.245442</td>\n",
       "      <td>0.015301</td>\n",
       "      <td>34</td>\n",
       "    </tr>\n",
       "    <tr>\n",
       "      <th>17</th>\n",
       "      <td>0.154500</td>\n",
       "      <td>0.018102</td>\n",
       "      <td>0.019293</td>\n",
       "      <td>0.003131</td>\n",
       "      <td>LogisticRegression()</td>\n",
       "      <td>3.27204</td>\n",
       "      <td>{'classifier': LogisticRegression(), 'classifi...</td>\n",
       "      <td>0.244989</td>\n",
       "      <td>0.271111</td>\n",
       "      <td>0.248889</td>\n",
       "      <td>0.237778</td>\n",
       "      <td>0.224444</td>\n",
       "      <td>0.245442</td>\n",
       "      <td>0.015301</td>\n",
       "      <td>34</td>\n",
       "    </tr>\n",
       "    <tr>\n",
       "      <th>18</th>\n",
       "      <td>0.171747</td>\n",
       "      <td>0.022561</td>\n",
       "      <td>0.022867</td>\n",
       "      <td>0.001101</td>\n",
       "      <td>LogisticRegression()</td>\n",
       "      <td>3.47592</td>\n",
       "      <td>{'classifier': LogisticRegression(), 'classifi...</td>\n",
       "      <td>0.244989</td>\n",
       "      <td>0.271111</td>\n",
       "      <td>0.248889</td>\n",
       "      <td>0.237778</td>\n",
       "      <td>0.224444</td>\n",
       "      <td>0.245442</td>\n",
       "      <td>0.015301</td>\n",
       "      <td>34</td>\n",
       "    </tr>\n",
       "    <tr>\n",
       "      <th>19</th>\n",
       "      <td>0.167669</td>\n",
       "      <td>0.018066</td>\n",
       "      <td>0.020110</td>\n",
       "      <td>0.002666</td>\n",
       "      <td>LogisticRegression()</td>\n",
       "      <td>3.6798</td>\n",
       "      <td>{'classifier': LogisticRegression(), 'classifi...</td>\n",
       "      <td>0.244989</td>\n",
       "      <td>0.271111</td>\n",
       "      <td>0.248889</td>\n",
       "      <td>0.237778</td>\n",
       "      <td>0.224444</td>\n",
       "      <td>0.245442</td>\n",
       "      <td>0.015301</td>\n",
       "      <td>34</td>\n",
       "    </tr>\n",
       "    <tr>\n",
       "      <th>20</th>\n",
       "      <td>0.165811</td>\n",
       "      <td>0.017499</td>\n",
       "      <td>0.015887</td>\n",
       "      <td>0.002233</td>\n",
       "      <td>LogisticRegression()</td>\n",
       "      <td>3.88367</td>\n",
       "      <td>{'classifier': LogisticRegression(), 'classifi...</td>\n",
       "      <td>0.244989</td>\n",
       "      <td>0.271111</td>\n",
       "      <td>0.251111</td>\n",
       "      <td>0.237778</td>\n",
       "      <td>0.224444</td>\n",
       "      <td>0.245887</td>\n",
       "      <td>0.015427</td>\n",
       "      <td>31</td>\n",
       "    </tr>\n",
       "    <tr>\n",
       "      <th>21</th>\n",
       "      <td>0.170826</td>\n",
       "      <td>0.025976</td>\n",
       "      <td>0.019193</td>\n",
       "      <td>0.001874</td>\n",
       "      <td>LogisticRegression()</td>\n",
       "      <td>4.08755</td>\n",
       "      <td>{'classifier': LogisticRegression(), 'classifi...</td>\n",
       "      <td>0.244989</td>\n",
       "      <td>0.271111</td>\n",
       "      <td>0.251111</td>\n",
       "      <td>0.237778</td>\n",
       "      <td>0.226667</td>\n",
       "      <td>0.246331</td>\n",
       "      <td>0.014823</td>\n",
       "      <td>27</td>\n",
       "    </tr>\n",
       "    <tr>\n",
       "      <th>22</th>\n",
       "      <td>0.174345</td>\n",
       "      <td>0.019216</td>\n",
       "      <td>0.023272</td>\n",
       "      <td>0.005715</td>\n",
       "      <td>LogisticRegression()</td>\n",
       "      <td>4.29143</td>\n",
       "      <td>{'classifier': LogisticRegression(), 'classifi...</td>\n",
       "      <td>0.244989</td>\n",
       "      <td>0.271111</td>\n",
       "      <td>0.251111</td>\n",
       "      <td>0.237778</td>\n",
       "      <td>0.224444</td>\n",
       "      <td>0.245887</td>\n",
       "      <td>0.015427</td>\n",
       "      <td>31</td>\n",
       "    </tr>\n",
       "    <tr>\n",
       "      <th>23</th>\n",
       "      <td>0.166155</td>\n",
       "      <td>0.027899</td>\n",
       "      <td>0.022073</td>\n",
       "      <td>0.003759</td>\n",
       "      <td>LogisticRegression()</td>\n",
       "      <td>4.49531</td>\n",
       "      <td>{'classifier': LogisticRegression(), 'classifi...</td>\n",
       "      <td>0.244989</td>\n",
       "      <td>0.271111</td>\n",
       "      <td>0.251111</td>\n",
       "      <td>0.237778</td>\n",
       "      <td>0.226667</td>\n",
       "      <td>0.246331</td>\n",
       "      <td>0.014823</td>\n",
       "      <td>27</td>\n",
       "    </tr>\n",
       "    <tr>\n",
       "      <th>24</th>\n",
       "      <td>0.196296</td>\n",
       "      <td>0.037087</td>\n",
       "      <td>0.023089</td>\n",
       "      <td>0.009762</td>\n",
       "      <td>LogisticRegression()</td>\n",
       "      <td>4.69918</td>\n",
       "      <td>{'classifier': LogisticRegression(), 'classifi...</td>\n",
       "      <td>0.244989</td>\n",
       "      <td>0.271111</td>\n",
       "      <td>0.251111</td>\n",
       "      <td>0.237778</td>\n",
       "      <td>0.224444</td>\n",
       "      <td>0.245887</td>\n",
       "      <td>0.015427</td>\n",
       "      <td>31</td>\n",
       "    </tr>\n",
       "    <tr>\n",
       "      <th>25</th>\n",
       "      <td>0.191901</td>\n",
       "      <td>0.033390</td>\n",
       "      <td>0.024933</td>\n",
       "      <td>0.004136</td>\n",
       "      <td>LogisticRegression()</td>\n",
       "      <td>4.90306</td>\n",
       "      <td>{'classifier': LogisticRegression(), 'classifi...</td>\n",
       "      <td>0.244989</td>\n",
       "      <td>0.271111</td>\n",
       "      <td>0.251111</td>\n",
       "      <td>0.237778</td>\n",
       "      <td>0.226667</td>\n",
       "      <td>0.246331</td>\n",
       "      <td>0.014823</td>\n",
       "      <td>27</td>\n",
       "    </tr>\n",
       "    <tr>\n",
       "      <th>26</th>\n",
       "      <td>0.155430</td>\n",
       "      <td>0.025080</td>\n",
       "      <td>0.019183</td>\n",
       "      <td>0.005171</td>\n",
       "      <td>LogisticRegression()</td>\n",
       "      <td>5.10694</td>\n",
       "      <td>{'classifier': LogisticRegression(), 'classifi...</td>\n",
       "      <td>0.244989</td>\n",
       "      <td>0.271111</td>\n",
       "      <td>0.251111</td>\n",
       "      <td>0.237778</td>\n",
       "      <td>0.226667</td>\n",
       "      <td>0.246331</td>\n",
       "      <td>0.014823</td>\n",
       "      <td>27</td>\n",
       "    </tr>\n",
       "    <tr>\n",
       "      <th>27</th>\n",
       "      <td>0.168518</td>\n",
       "      <td>0.023365</td>\n",
       "      <td>0.025544</td>\n",
       "      <td>0.002714</td>\n",
       "      <td>LogisticRegression()</td>\n",
       "      <td>5.31082</td>\n",
       "      <td>{'classifier': LogisticRegression(), 'classifi...</td>\n",
       "      <td>0.244989</td>\n",
       "      <td>0.271111</td>\n",
       "      <td>0.253333</td>\n",
       "      <td>0.237778</td>\n",
       "      <td>0.226667</td>\n",
       "      <td>0.246776</td>\n",
       "      <td>0.014992</td>\n",
       "      <td>24</td>\n",
       "    </tr>\n",
       "    <tr>\n",
       "      <th>28</th>\n",
       "      <td>0.162221</td>\n",
       "      <td>0.007046</td>\n",
       "      <td>0.020744</td>\n",
       "      <td>0.002309</td>\n",
       "      <td>LogisticRegression()</td>\n",
       "      <td>5.51469</td>\n",
       "      <td>{'classifier': LogisticRegression(), 'classifi...</td>\n",
       "      <td>0.244989</td>\n",
       "      <td>0.271111</td>\n",
       "      <td>0.253333</td>\n",
       "      <td>0.237778</td>\n",
       "      <td>0.226667</td>\n",
       "      <td>0.246776</td>\n",
       "      <td>0.014992</td>\n",
       "      <td>24</td>\n",
       "    </tr>\n",
       "    <tr>\n",
       "      <th>29</th>\n",
       "      <td>0.159620</td>\n",
       "      <td>0.024811</td>\n",
       "      <td>0.027480</td>\n",
       "      <td>0.006573</td>\n",
       "      <td>LogisticRegression()</td>\n",
       "      <td>5.71857</td>\n",
       "      <td>{'classifier': LogisticRegression(), 'classifi...</td>\n",
       "      <td>0.244989</td>\n",
       "      <td>0.271111</td>\n",
       "      <td>0.253333</td>\n",
       "      <td>0.237778</td>\n",
       "      <td>0.226667</td>\n",
       "      <td>0.246776</td>\n",
       "      <td>0.014992</td>\n",
       "      <td>24</td>\n",
       "    </tr>\n",
       "    <tr>\n",
       "      <th>30</th>\n",
       "      <td>0.168599</td>\n",
       "      <td>0.024179</td>\n",
       "      <td>0.022073</td>\n",
       "      <td>0.006068</td>\n",
       "      <td>LogisticRegression()</td>\n",
       "      <td>5.92245</td>\n",
       "      <td>{'classifier': LogisticRegression(), 'classifi...</td>\n",
       "      <td>0.244989</td>\n",
       "      <td>0.271111</td>\n",
       "      <td>0.255556</td>\n",
       "      <td>0.237778</td>\n",
       "      <td>0.226667</td>\n",
       "      <td>0.247220</td>\n",
       "      <td>0.015211</td>\n",
       "      <td>4</td>\n",
       "    </tr>\n",
       "    <tr>\n",
       "      <th>31</th>\n",
       "      <td>0.178212</td>\n",
       "      <td>0.028609</td>\n",
       "      <td>0.024019</td>\n",
       "      <td>0.004183</td>\n",
       "      <td>LogisticRegression()</td>\n",
       "      <td>6.12633</td>\n",
       "      <td>{'classifier': LogisticRegression(), 'classifi...</td>\n",
       "      <td>0.244989</td>\n",
       "      <td>0.271111</td>\n",
       "      <td>0.255556</td>\n",
       "      <td>0.237778</td>\n",
       "      <td>0.226667</td>\n",
       "      <td>0.247220</td>\n",
       "      <td>0.015211</td>\n",
       "      <td>4</td>\n",
       "    </tr>\n",
       "    <tr>\n",
       "      <th>32</th>\n",
       "      <td>0.187152</td>\n",
       "      <td>0.036913</td>\n",
       "      <td>0.019208</td>\n",
       "      <td>0.007269</td>\n",
       "      <td>LogisticRegression()</td>\n",
       "      <td>6.3302</td>\n",
       "      <td>{'classifier': LogisticRegression(), 'classifi...</td>\n",
       "      <td>0.244989</td>\n",
       "      <td>0.271111</td>\n",
       "      <td>0.255556</td>\n",
       "      <td>0.237778</td>\n",
       "      <td>0.226667</td>\n",
       "      <td>0.247220</td>\n",
       "      <td>0.015211</td>\n",
       "      <td>4</td>\n",
       "    </tr>\n",
       "    <tr>\n",
       "      <th>33</th>\n",
       "      <td>0.196176</td>\n",
       "      <td>0.051585</td>\n",
       "      <td>0.024865</td>\n",
       "      <td>0.005048</td>\n",
       "      <td>LogisticRegression()</td>\n",
       "      <td>6.53408</td>\n",
       "      <td>{'classifier': LogisticRegression(), 'classifi...</td>\n",
       "      <td>0.244989</td>\n",
       "      <td>0.271111</td>\n",
       "      <td>0.255556</td>\n",
       "      <td>0.237778</td>\n",
       "      <td>0.226667</td>\n",
       "      <td>0.247220</td>\n",
       "      <td>0.015211</td>\n",
       "      <td>4</td>\n",
       "    </tr>\n",
       "    <tr>\n",
       "      <th>34</th>\n",
       "      <td>0.169502</td>\n",
       "      <td>0.017598</td>\n",
       "      <td>0.022045</td>\n",
       "      <td>0.005009</td>\n",
       "      <td>LogisticRegression()</td>\n",
       "      <td>6.73796</td>\n",
       "      <td>{'classifier': LogisticRegression(), 'classifi...</td>\n",
       "      <td>0.244989</td>\n",
       "      <td>0.271111</td>\n",
       "      <td>0.255556</td>\n",
       "      <td>0.237778</td>\n",
       "      <td>0.226667</td>\n",
       "      <td>0.247220</td>\n",
       "      <td>0.015211</td>\n",
       "      <td>4</td>\n",
       "    </tr>\n",
       "    <tr>\n",
       "      <th>35</th>\n",
       "      <td>0.152207</td>\n",
       "      <td>0.014777</td>\n",
       "      <td>0.022609</td>\n",
       "      <td>0.004970</td>\n",
       "      <td>LogisticRegression()</td>\n",
       "      <td>6.94184</td>\n",
       "      <td>{'classifier': LogisticRegression(), 'classifi...</td>\n",
       "      <td>0.244989</td>\n",
       "      <td>0.271111</td>\n",
       "      <td>0.255556</td>\n",
       "      <td>0.237778</td>\n",
       "      <td>0.226667</td>\n",
       "      <td>0.247220</td>\n",
       "      <td>0.015211</td>\n",
       "      <td>4</td>\n",
       "    </tr>\n",
       "    <tr>\n",
       "      <th>36</th>\n",
       "      <td>0.168879</td>\n",
       "      <td>0.019005</td>\n",
       "      <td>0.021579</td>\n",
       "      <td>0.002626</td>\n",
       "      <td>LogisticRegression()</td>\n",
       "      <td>7.14571</td>\n",
       "      <td>{'classifier': LogisticRegression(), 'classifi...</td>\n",
       "      <td>0.244989</td>\n",
       "      <td>0.271111</td>\n",
       "      <td>0.255556</td>\n",
       "      <td>0.237778</td>\n",
       "      <td>0.226667</td>\n",
       "      <td>0.247220</td>\n",
       "      <td>0.015211</td>\n",
       "      <td>4</td>\n",
       "    </tr>\n",
       "    <tr>\n",
       "      <th>37</th>\n",
       "      <td>0.152762</td>\n",
       "      <td>0.014740</td>\n",
       "      <td>0.022336</td>\n",
       "      <td>0.008193</td>\n",
       "      <td>LogisticRegression()</td>\n",
       "      <td>7.34959</td>\n",
       "      <td>{'classifier': LogisticRegression(), 'classifi...</td>\n",
       "      <td>0.244989</td>\n",
       "      <td>0.271111</td>\n",
       "      <td>0.255556</td>\n",
       "      <td>0.237778</td>\n",
       "      <td>0.226667</td>\n",
       "      <td>0.247220</td>\n",
       "      <td>0.015211</td>\n",
       "      <td>4</td>\n",
       "    </tr>\n",
       "    <tr>\n",
       "      <th>38</th>\n",
       "      <td>0.155503</td>\n",
       "      <td>0.022117</td>\n",
       "      <td>0.017818</td>\n",
       "      <td>0.002038</td>\n",
       "      <td>LogisticRegression()</td>\n",
       "      <td>7.55347</td>\n",
       "      <td>{'classifier': LogisticRegression(), 'classifi...</td>\n",
       "      <td>0.244989</td>\n",
       "      <td>0.271111</td>\n",
       "      <td>0.255556</td>\n",
       "      <td>0.237778</td>\n",
       "      <td>0.226667</td>\n",
       "      <td>0.247220</td>\n",
       "      <td>0.015211</td>\n",
       "      <td>4</td>\n",
       "    </tr>\n",
       "    <tr>\n",
       "      <th>39</th>\n",
       "      <td>0.158463</td>\n",
       "      <td>0.021084</td>\n",
       "      <td>0.020628</td>\n",
       "      <td>0.005448</td>\n",
       "      <td>LogisticRegression()</td>\n",
       "      <td>7.75735</td>\n",
       "      <td>{'classifier': LogisticRegression(), 'classifi...</td>\n",
       "      <td>0.244989</td>\n",
       "      <td>0.271111</td>\n",
       "      <td>0.255556</td>\n",
       "      <td>0.237778</td>\n",
       "      <td>0.226667</td>\n",
       "      <td>0.247220</td>\n",
       "      <td>0.015211</td>\n",
       "      <td>4</td>\n",
       "    </tr>\n",
       "    <tr>\n",
       "      <th>40</th>\n",
       "      <td>0.164536</td>\n",
       "      <td>0.025521</td>\n",
       "      <td>0.022258</td>\n",
       "      <td>0.004526</td>\n",
       "      <td>LogisticRegression()</td>\n",
       "      <td>7.96122</td>\n",
       "      <td>{'classifier': LogisticRegression(), 'classifi...</td>\n",
       "      <td>0.244989</td>\n",
       "      <td>0.271111</td>\n",
       "      <td>0.255556</td>\n",
       "      <td>0.237778</td>\n",
       "      <td>0.226667</td>\n",
       "      <td>0.247220</td>\n",
       "      <td>0.015211</td>\n",
       "      <td>4</td>\n",
       "    </tr>\n",
       "    <tr>\n",
       "      <th>41</th>\n",
       "      <td>0.233056</td>\n",
       "      <td>0.027976</td>\n",
       "      <td>0.026743</td>\n",
       "      <td>0.003189</td>\n",
       "      <td>LogisticRegression()</td>\n",
       "      <td>8.1651</td>\n",
       "      <td>{'classifier': LogisticRegression(), 'classifi...</td>\n",
       "      <td>0.244989</td>\n",
       "      <td>0.271111</td>\n",
       "      <td>0.255556</td>\n",
       "      <td>0.237778</td>\n",
       "      <td>0.226667</td>\n",
       "      <td>0.247220</td>\n",
       "      <td>0.015211</td>\n",
       "      <td>4</td>\n",
       "    </tr>\n",
       "    <tr>\n",
       "      <th>42</th>\n",
       "      <td>0.163598</td>\n",
       "      <td>0.023298</td>\n",
       "      <td>0.020743</td>\n",
       "      <td>0.005517</td>\n",
       "      <td>LogisticRegression()</td>\n",
       "      <td>8.36898</td>\n",
       "      <td>{'classifier': LogisticRegression(), 'classifi...</td>\n",
       "      <td>0.244989</td>\n",
       "      <td>0.271111</td>\n",
       "      <td>0.255556</td>\n",
       "      <td>0.237778</td>\n",
       "      <td>0.226667</td>\n",
       "      <td>0.247220</td>\n",
       "      <td>0.015211</td>\n",
       "      <td>4</td>\n",
       "    </tr>\n",
       "    <tr>\n",
       "      <th>43</th>\n",
       "      <td>0.162444</td>\n",
       "      <td>0.019724</td>\n",
       "      <td>0.020192</td>\n",
       "      <td>0.007967</td>\n",
       "      <td>LogisticRegression()</td>\n",
       "      <td>8.57286</td>\n",
       "      <td>{'classifier': LogisticRegression(), 'classifi...</td>\n",
       "      <td>0.244989</td>\n",
       "      <td>0.271111</td>\n",
       "      <td>0.255556</td>\n",
       "      <td>0.237778</td>\n",
       "      <td>0.226667</td>\n",
       "      <td>0.247220</td>\n",
       "      <td>0.015211</td>\n",
       "      <td>4</td>\n",
       "    </tr>\n",
       "    <tr>\n",
       "      <th>44</th>\n",
       "      <td>0.162018</td>\n",
       "      <td>0.026064</td>\n",
       "      <td>0.027406</td>\n",
       "      <td>0.006196</td>\n",
       "      <td>LogisticRegression()</td>\n",
       "      <td>8.77673</td>\n",
       "      <td>{'classifier': LogisticRegression(), 'classifi...</td>\n",
       "      <td>0.244989</td>\n",
       "      <td>0.271111</td>\n",
       "      <td>0.255556</td>\n",
       "      <td>0.237778</td>\n",
       "      <td>0.226667</td>\n",
       "      <td>0.247220</td>\n",
       "      <td>0.015211</td>\n",
       "      <td>4</td>\n",
       "    </tr>\n",
       "    <tr>\n",
       "      <th>45</th>\n",
       "      <td>0.162202</td>\n",
       "      <td>0.019433</td>\n",
       "      <td>0.021142</td>\n",
       "      <td>0.005439</td>\n",
       "      <td>LogisticRegression()</td>\n",
       "      <td>8.98061</td>\n",
       "      <td>{'classifier': LogisticRegression(), 'classifi...</td>\n",
       "      <td>0.244989</td>\n",
       "      <td>0.271111</td>\n",
       "      <td>0.255556</td>\n",
       "      <td>0.237778</td>\n",
       "      <td>0.226667</td>\n",
       "      <td>0.247220</td>\n",
       "      <td>0.015211</td>\n",
       "      <td>4</td>\n",
       "    </tr>\n",
       "    <tr>\n",
       "      <th>46</th>\n",
       "      <td>0.160664</td>\n",
       "      <td>0.010485</td>\n",
       "      <td>0.018821</td>\n",
       "      <td>0.006212</td>\n",
       "      <td>LogisticRegression()</td>\n",
       "      <td>9.18449</td>\n",
       "      <td>{'classifier': LogisticRegression(), 'classifi...</td>\n",
       "      <td>0.244989</td>\n",
       "      <td>0.271111</td>\n",
       "      <td>0.255556</td>\n",
       "      <td>0.237778</td>\n",
       "      <td>0.226667</td>\n",
       "      <td>0.247220</td>\n",
       "      <td>0.015211</td>\n",
       "      <td>4</td>\n",
       "    </tr>\n",
       "    <tr>\n",
       "      <th>47</th>\n",
       "      <td>0.220464</td>\n",
       "      <td>0.057614</td>\n",
       "      <td>0.028863</td>\n",
       "      <td>0.004726</td>\n",
       "      <td>LogisticRegression()</td>\n",
       "      <td>9.38837</td>\n",
       "      <td>{'classifier': LogisticRegression(), 'classifi...</td>\n",
       "      <td>0.244989</td>\n",
       "      <td>0.271111</td>\n",
       "      <td>0.255556</td>\n",
       "      <td>0.237778</td>\n",
       "      <td>0.226667</td>\n",
       "      <td>0.247220</td>\n",
       "      <td>0.015211</td>\n",
       "      <td>4</td>\n",
       "    </tr>\n",
       "    <tr>\n",
       "      <th>48</th>\n",
       "      <td>0.217393</td>\n",
       "      <td>0.042197</td>\n",
       "      <td>0.027542</td>\n",
       "      <td>0.006710</td>\n",
       "      <td>LogisticRegression()</td>\n",
       "      <td>9.59224</td>\n",
       "      <td>{'classifier': LogisticRegression(), 'classifi...</td>\n",
       "      <td>0.244989</td>\n",
       "      <td>0.271111</td>\n",
       "      <td>0.255556</td>\n",
       "      <td>0.237778</td>\n",
       "      <td>0.226667</td>\n",
       "      <td>0.247220</td>\n",
       "      <td>0.015211</td>\n",
       "      <td>4</td>\n",
       "    </tr>\n",
       "    <tr>\n",
       "      <th>49</th>\n",
       "      <td>0.230492</td>\n",
       "      <td>0.024797</td>\n",
       "      <td>0.024754</td>\n",
       "      <td>0.005028</td>\n",
       "      <td>LogisticRegression()</td>\n",
       "      <td>9.79612</td>\n",
       "      <td>{'classifier': LogisticRegression(), 'classifi...</td>\n",
       "      <td>0.244989</td>\n",
       "      <td>0.271111</td>\n",
       "      <td>0.255556</td>\n",
       "      <td>0.237778</td>\n",
       "      <td>0.226667</td>\n",
       "      <td>0.247220</td>\n",
       "      <td>0.015211</td>\n",
       "      <td>4</td>\n",
       "    </tr>\n",
       "    <tr>\n",
       "      <th>50</th>\n",
       "      <td>0.171392</td>\n",
       "      <td>0.021265</td>\n",
       "      <td>0.017690</td>\n",
       "      <td>0.003108</td>\n",
       "      <td>LogisticRegression()</td>\n",
       "      <td>10</td>\n",
       "      <td>{'classifier': LogisticRegression(), 'classifi...</td>\n",
       "      <td>0.244989</td>\n",
       "      <td>0.271111</td>\n",
       "      <td>0.255556</td>\n",
       "      <td>0.240000</td>\n",
       "      <td>0.226667</td>\n",
       "      <td>0.247664</td>\n",
       "      <td>0.014959</td>\n",
       "      <td>3</td>\n",
       "    </tr>\n",
       "    <tr>\n",
       "      <th>51</th>\n",
       "      <td>1.591362</td>\n",
       "      <td>0.127259</td>\n",
       "      <td>0.085248</td>\n",
       "      <td>0.000892</td>\n",
       "      <td>RandomForestClassifier()</td>\n",
       "      <td>NaN</td>\n",
       "      <td>{'classifier': RandomForestClassifier()}</td>\n",
       "      <td>0.289532</td>\n",
       "      <td>0.317778</td>\n",
       "      <td>0.308889</td>\n",
       "      <td>0.248889</td>\n",
       "      <td>0.264444</td>\n",
       "      <td>0.285906</td>\n",
       "      <td>0.026031</td>\n",
       "      <td>2</td>\n",
       "    </tr>\n",
       "  </tbody>\n",
       "</table>\n",
       "</div>"
      ],
      "text/plain": [
       "    mean_fit_time  std_fit_time  mean_score_time  std_score_time  \\\n",
       "0        0.050275      0.011922         0.029200        0.013178   \n",
       "1        0.096958      0.025018         0.024656        0.013784   \n",
       "2        0.144297      0.023850         0.024345        0.003987   \n",
       "3        0.179598      0.021236         0.026264        0.008274   \n",
       "4        0.181167      0.033800         0.023668        0.004766   \n",
       "5        0.172358      0.014408         0.024091        0.004974   \n",
       "6        0.150648      0.019619         0.024579        0.003328   \n",
       "7        0.154484      0.017177         0.016506        0.004473   \n",
       "8        0.200973      0.045874         0.026279        0.004611   \n",
       "9        0.169949      0.013356         0.018043        0.005066   \n",
       "10       0.148445      0.016724         0.021245        0.006957   \n",
       "11       0.159569      0.022608         0.018873        0.004015   \n",
       "12       0.170871      0.036123         0.020743        0.001323   \n",
       "13       0.245461      0.121452         0.026508        0.019575   \n",
       "14       0.172429      0.018148         0.026796        0.004959   \n",
       "15       0.173356      0.019194         0.023308        0.004553   \n",
       "16       0.155950      0.027863         0.018226        0.003186   \n",
       "17       0.154500      0.018102         0.019293        0.003131   \n",
       "18       0.171747      0.022561         0.022867        0.001101   \n",
       "19       0.167669      0.018066         0.020110        0.002666   \n",
       "20       0.165811      0.017499         0.015887        0.002233   \n",
       "21       0.170826      0.025976         0.019193        0.001874   \n",
       "22       0.174345      0.019216         0.023272        0.005715   \n",
       "23       0.166155      0.027899         0.022073        0.003759   \n",
       "24       0.196296      0.037087         0.023089        0.009762   \n",
       "25       0.191901      0.033390         0.024933        0.004136   \n",
       "26       0.155430      0.025080         0.019183        0.005171   \n",
       "27       0.168518      0.023365         0.025544        0.002714   \n",
       "28       0.162221      0.007046         0.020744        0.002309   \n",
       "29       0.159620      0.024811         0.027480        0.006573   \n",
       "30       0.168599      0.024179         0.022073        0.006068   \n",
       "31       0.178212      0.028609         0.024019        0.004183   \n",
       "32       0.187152      0.036913         0.019208        0.007269   \n",
       "33       0.196176      0.051585         0.024865        0.005048   \n",
       "34       0.169502      0.017598         0.022045        0.005009   \n",
       "35       0.152207      0.014777         0.022609        0.004970   \n",
       "36       0.168879      0.019005         0.021579        0.002626   \n",
       "37       0.152762      0.014740         0.022336        0.008193   \n",
       "38       0.155503      0.022117         0.017818        0.002038   \n",
       "39       0.158463      0.021084         0.020628        0.005448   \n",
       "40       0.164536      0.025521         0.022258        0.004526   \n",
       "41       0.233056      0.027976         0.026743        0.003189   \n",
       "42       0.163598      0.023298         0.020743        0.005517   \n",
       "43       0.162444      0.019724         0.020192        0.007967   \n",
       "44       0.162018      0.026064         0.027406        0.006196   \n",
       "45       0.162202      0.019433         0.021142        0.005439   \n",
       "46       0.160664      0.010485         0.018821        0.006212   \n",
       "47       0.220464      0.057614         0.028863        0.004726   \n",
       "48       0.217393      0.042197         0.027542        0.006710   \n",
       "49       0.230492      0.024797         0.024754        0.005028   \n",
       "50       0.171392      0.021265         0.017690        0.003108   \n",
       "51       1.591362      0.127259         0.085248        0.000892   \n",
       "\n",
       "            param_classifier param_classifier__C  \\\n",
       "0               GaussianNB()                 NaN   \n",
       "1       LogisticRegression()                0.01   \n",
       "2       LogisticRegression()            0.213878   \n",
       "3       LogisticRegression()            0.417755   \n",
       "4       LogisticRegression()            0.621633   \n",
       "5       LogisticRegression()             0.82551   \n",
       "6       LogisticRegression()             1.02939   \n",
       "7       LogisticRegression()             1.23327   \n",
       "8       LogisticRegression()             1.43714   \n",
       "9       LogisticRegression()             1.64102   \n",
       "10      LogisticRegression()              1.8449   \n",
       "11      LogisticRegression()             2.04878   \n",
       "12      LogisticRegression()             2.25265   \n",
       "13      LogisticRegression()             2.45653   \n",
       "14      LogisticRegression()             2.66041   \n",
       "15      LogisticRegression()             2.86429   \n",
       "16      LogisticRegression()             3.06816   \n",
       "17      LogisticRegression()             3.27204   \n",
       "18      LogisticRegression()             3.47592   \n",
       "19      LogisticRegression()              3.6798   \n",
       "20      LogisticRegression()             3.88367   \n",
       "21      LogisticRegression()             4.08755   \n",
       "22      LogisticRegression()             4.29143   \n",
       "23      LogisticRegression()             4.49531   \n",
       "24      LogisticRegression()             4.69918   \n",
       "25      LogisticRegression()             4.90306   \n",
       "26      LogisticRegression()             5.10694   \n",
       "27      LogisticRegression()             5.31082   \n",
       "28      LogisticRegression()             5.51469   \n",
       "29      LogisticRegression()             5.71857   \n",
       "30      LogisticRegression()             5.92245   \n",
       "31      LogisticRegression()             6.12633   \n",
       "32      LogisticRegression()              6.3302   \n",
       "33      LogisticRegression()             6.53408   \n",
       "34      LogisticRegression()             6.73796   \n",
       "35      LogisticRegression()             6.94184   \n",
       "36      LogisticRegression()             7.14571   \n",
       "37      LogisticRegression()             7.34959   \n",
       "38      LogisticRegression()             7.55347   \n",
       "39      LogisticRegression()             7.75735   \n",
       "40      LogisticRegression()             7.96122   \n",
       "41      LogisticRegression()              8.1651   \n",
       "42      LogisticRegression()             8.36898   \n",
       "43      LogisticRegression()             8.57286   \n",
       "44      LogisticRegression()             8.77673   \n",
       "45      LogisticRegression()             8.98061   \n",
       "46      LogisticRegression()             9.18449   \n",
       "47      LogisticRegression()             9.38837   \n",
       "48      LogisticRegression()             9.59224   \n",
       "49      LogisticRegression()             9.79612   \n",
       "50      LogisticRegression()                  10   \n",
       "51  RandomForestClassifier()                 NaN   \n",
       "\n",
       "                                               params  split0_test_score  \\\n",
       "0                        {'classifier': GaussianNB()}           0.570156   \n",
       "1   {'classifier': LogisticRegression(), 'classifi...           0.129176   \n",
       "2   {'classifier': LogisticRegression(), 'classifi...           0.229399   \n",
       "3   {'classifier': LogisticRegression(), 'classifi...           0.231626   \n",
       "4   {'classifier': LogisticRegression(), 'classifi...           0.238307   \n",
       "5   {'classifier': LogisticRegression(), 'classifi...           0.240535   \n",
       "6   {'classifier': LogisticRegression(), 'classifi...           0.240535   \n",
       "7   {'classifier': LogisticRegression(), 'classifi...           0.242762   \n",
       "8   {'classifier': LogisticRegression(), 'classifi...           0.242762   \n",
       "9   {'classifier': LogisticRegression(), 'classifi...           0.242762   \n",
       "10  {'classifier': LogisticRegression(), 'classifi...           0.244989   \n",
       "11  {'classifier': LogisticRegression(), 'classifi...           0.244989   \n",
       "12  {'classifier': LogisticRegression(), 'classifi...           0.244989   \n",
       "13  {'classifier': LogisticRegression(), 'classifi...           0.244989   \n",
       "14  {'classifier': LogisticRegression(), 'classifi...           0.244989   \n",
       "15  {'classifier': LogisticRegression(), 'classifi...           0.244989   \n",
       "16  {'classifier': LogisticRegression(), 'classifi...           0.244989   \n",
       "17  {'classifier': LogisticRegression(), 'classifi...           0.244989   \n",
       "18  {'classifier': LogisticRegression(), 'classifi...           0.244989   \n",
       "19  {'classifier': LogisticRegression(), 'classifi...           0.244989   \n",
       "20  {'classifier': LogisticRegression(), 'classifi...           0.244989   \n",
       "21  {'classifier': LogisticRegression(), 'classifi...           0.244989   \n",
       "22  {'classifier': LogisticRegression(), 'classifi...           0.244989   \n",
       "23  {'classifier': LogisticRegression(), 'classifi...           0.244989   \n",
       "24  {'classifier': LogisticRegression(), 'classifi...           0.244989   \n",
       "25  {'classifier': LogisticRegression(), 'classifi...           0.244989   \n",
       "26  {'classifier': LogisticRegression(), 'classifi...           0.244989   \n",
       "27  {'classifier': LogisticRegression(), 'classifi...           0.244989   \n",
       "28  {'classifier': LogisticRegression(), 'classifi...           0.244989   \n",
       "29  {'classifier': LogisticRegression(), 'classifi...           0.244989   \n",
       "30  {'classifier': LogisticRegression(), 'classifi...           0.244989   \n",
       "31  {'classifier': LogisticRegression(), 'classifi...           0.244989   \n",
       "32  {'classifier': LogisticRegression(), 'classifi...           0.244989   \n",
       "33  {'classifier': LogisticRegression(), 'classifi...           0.244989   \n",
       "34  {'classifier': LogisticRegression(), 'classifi...           0.244989   \n",
       "35  {'classifier': LogisticRegression(), 'classifi...           0.244989   \n",
       "36  {'classifier': LogisticRegression(), 'classifi...           0.244989   \n",
       "37  {'classifier': LogisticRegression(), 'classifi...           0.244989   \n",
       "38  {'classifier': LogisticRegression(), 'classifi...           0.244989   \n",
       "39  {'classifier': LogisticRegression(), 'classifi...           0.244989   \n",
       "40  {'classifier': LogisticRegression(), 'classifi...           0.244989   \n",
       "41  {'classifier': LogisticRegression(), 'classifi...           0.244989   \n",
       "42  {'classifier': LogisticRegression(), 'classifi...           0.244989   \n",
       "43  {'classifier': LogisticRegression(), 'classifi...           0.244989   \n",
       "44  {'classifier': LogisticRegression(), 'classifi...           0.244989   \n",
       "45  {'classifier': LogisticRegression(), 'classifi...           0.244989   \n",
       "46  {'classifier': LogisticRegression(), 'classifi...           0.244989   \n",
       "47  {'classifier': LogisticRegression(), 'classifi...           0.244989   \n",
       "48  {'classifier': LogisticRegression(), 'classifi...           0.244989   \n",
       "49  {'classifier': LogisticRegression(), 'classifi...           0.244989   \n",
       "50  {'classifier': LogisticRegression(), 'classifi...           0.244989   \n",
       "51           {'classifier': RandomForestClassifier()}           0.289532   \n",
       "\n",
       "    split1_test_score  split2_test_score  split3_test_score  \\\n",
       "0            0.588889           0.571111           0.564444   \n",
       "1            0.153333           0.151111           0.126667   \n",
       "2            0.262222           0.235556           0.226667   \n",
       "3            0.271111           0.244444           0.233333   \n",
       "4            0.271111           0.246667           0.233333   \n",
       "5            0.271111           0.248889           0.233333   \n",
       "6            0.271111           0.248889           0.233333   \n",
       "7            0.271111           0.248889           0.233333   \n",
       "8            0.271111           0.248889           0.233333   \n",
       "9            0.271111           0.248889           0.233333   \n",
       "10           0.271111           0.248889           0.235556   \n",
       "11           0.271111           0.248889           0.235556   \n",
       "12           0.271111           0.248889           0.235556   \n",
       "13           0.271111           0.248889           0.235556   \n",
       "14           0.271111           0.248889           0.235556   \n",
       "15           0.271111           0.248889           0.235556   \n",
       "16           0.271111           0.248889           0.237778   \n",
       "17           0.271111           0.248889           0.237778   \n",
       "18           0.271111           0.248889           0.237778   \n",
       "19           0.271111           0.248889           0.237778   \n",
       "20           0.271111           0.251111           0.237778   \n",
       "21           0.271111           0.251111           0.237778   \n",
       "22           0.271111           0.251111           0.237778   \n",
       "23           0.271111           0.251111           0.237778   \n",
       "24           0.271111           0.251111           0.237778   \n",
       "25           0.271111           0.251111           0.237778   \n",
       "26           0.271111           0.251111           0.237778   \n",
       "27           0.271111           0.253333           0.237778   \n",
       "28           0.271111           0.253333           0.237778   \n",
       "29           0.271111           0.253333           0.237778   \n",
       "30           0.271111           0.255556           0.237778   \n",
       "31           0.271111           0.255556           0.237778   \n",
       "32           0.271111           0.255556           0.237778   \n",
       "33           0.271111           0.255556           0.237778   \n",
       "34           0.271111           0.255556           0.237778   \n",
       "35           0.271111           0.255556           0.237778   \n",
       "36           0.271111           0.255556           0.237778   \n",
       "37           0.271111           0.255556           0.237778   \n",
       "38           0.271111           0.255556           0.237778   \n",
       "39           0.271111           0.255556           0.237778   \n",
       "40           0.271111           0.255556           0.237778   \n",
       "41           0.271111           0.255556           0.237778   \n",
       "42           0.271111           0.255556           0.237778   \n",
       "43           0.271111           0.255556           0.237778   \n",
       "44           0.271111           0.255556           0.237778   \n",
       "45           0.271111           0.255556           0.237778   \n",
       "46           0.271111           0.255556           0.237778   \n",
       "47           0.271111           0.255556           0.237778   \n",
       "48           0.271111           0.255556           0.237778   \n",
       "49           0.271111           0.255556           0.237778   \n",
       "50           0.271111           0.255556           0.240000   \n",
       "51           0.317778           0.308889           0.248889   \n",
       "\n",
       "    split4_test_score  mean_test_score  std_test_score  rank_test_score  \n",
       "0            0.560000         0.570920        0.009846                1  \n",
       "1            0.133333         0.138724        0.011247               52  \n",
       "2            0.213333         0.233435        0.016121               51  \n",
       "3            0.217778         0.239659        0.017863               50  \n",
       "4            0.217778         0.241439        0.017568               49  \n",
       "5            0.220000         0.242774        0.017048               47  \n",
       "6            0.220000         0.242774        0.017048               47  \n",
       "7            0.220000         0.243219        0.017013               44  \n",
       "8            0.220000         0.243219        0.017013               44  \n",
       "9            0.220000         0.243219        0.017013               44  \n",
       "10           0.222222         0.244553        0.016149               43  \n",
       "11           0.224444         0.244998        0.015548               38  \n",
       "12           0.224444         0.244998        0.015548               38  \n",
       "13           0.224444         0.244998        0.015548               38  \n",
       "14           0.224444         0.244998        0.015548               38  \n",
       "15           0.224444         0.244998        0.015548               38  \n",
       "16           0.224444         0.245442        0.015301               34  \n",
       "17           0.224444         0.245442        0.015301               34  \n",
       "18           0.224444         0.245442        0.015301               34  \n",
       "19           0.224444         0.245442        0.015301               34  \n",
       "20           0.224444         0.245887        0.015427               31  \n",
       "21           0.226667         0.246331        0.014823               27  \n",
       "22           0.224444         0.245887        0.015427               31  \n",
       "23           0.226667         0.246331        0.014823               27  \n",
       "24           0.224444         0.245887        0.015427               31  \n",
       "25           0.226667         0.246331        0.014823               27  \n",
       "26           0.226667         0.246331        0.014823               27  \n",
       "27           0.226667         0.246776        0.014992               24  \n",
       "28           0.226667         0.246776        0.014992               24  \n",
       "29           0.226667         0.246776        0.014992               24  \n",
       "30           0.226667         0.247220        0.015211                4  \n",
       "31           0.226667         0.247220        0.015211                4  \n",
       "32           0.226667         0.247220        0.015211                4  \n",
       "33           0.226667         0.247220        0.015211                4  \n",
       "34           0.226667         0.247220        0.015211                4  \n",
       "35           0.226667         0.247220        0.015211                4  \n",
       "36           0.226667         0.247220        0.015211                4  \n",
       "37           0.226667         0.247220        0.015211                4  \n",
       "38           0.226667         0.247220        0.015211                4  \n",
       "39           0.226667         0.247220        0.015211                4  \n",
       "40           0.226667         0.247220        0.015211                4  \n",
       "41           0.226667         0.247220        0.015211                4  \n",
       "42           0.226667         0.247220        0.015211                4  \n",
       "43           0.226667         0.247220        0.015211                4  \n",
       "44           0.226667         0.247220        0.015211                4  \n",
       "45           0.226667         0.247220        0.015211                4  \n",
       "46           0.226667         0.247220        0.015211                4  \n",
       "47           0.226667         0.247220        0.015211                4  \n",
       "48           0.226667         0.247220        0.015211                4  \n",
       "49           0.226667         0.247220        0.015211                4  \n",
       "50           0.226667         0.247664        0.014959                3  \n",
       "51           0.264444         0.285906        0.026031                2  "
      ]
     },
     "execution_count": 115,
     "metadata": {},
     "output_type": "execute_result"
    }
   ],
   "source": [
    " pd.DataFrame(grid_search.cv_results_)"
   ]
  },
  {
   "cell_type": "code",
   "execution_count": null,
   "metadata": {},
   "outputs": [],
   "source": []
  }
 ],
 "metadata": {
  "colab": {
   "include_colab_link": true,
   "name": "Copia de notebook_desafio.ipynb",
   "provenance": []
  },
  "kernelspec": {
   "display_name": "Python 3",
   "language": "python",
   "name": "python3"
  },
  "language_info": {
   "codemirror_mode": {
    "name": "ipython",
    "version": 3
   },
   "file_extension": ".py",
   "mimetype": "text/x-python",
   "name": "python",
   "nbconvert_exporter": "python",
   "pygments_lexer": "ipython3",
   "version": "3.7.7"
  }
 },
 "nbformat": 4,
 "nbformat_minor": 1
}
